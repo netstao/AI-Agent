{
 "cells": [
  {
   "cell_type": "markdown",
   "metadata": {},
   "source": [
    "# 第一个Agent\n",
    "- 会做数学题\n",
    "- 不知道答案的时候可以搜索"
   ]
  },
  {
   "cell_type": "code",
   "execution_count": 8,
   "metadata": {},
   "outputs": [],
   "source": [
    "import os\n",
    "from dotenv import load_dotenv\n",
    "# Load environment variables from openai.env file\n",
    "load_dotenv()\n",
    "\n",
    "# Read the OPENAI_API_KEY from the environment\n",
    "api_key = os.getenv(\"OPENAI_API_KEY\")\n",
    "api_base = os.getenv(\"OPENAI_API_BASE\")\n",
    "os.environ[\"OPENAI_API_KEY\"] = api_key\n",
    "os.environ[\"OPENAI_API_BASE\"] = api_base"
   ]
  },
  {
   "cell_type": "code",
   "execution_count": 9,
   "metadata": {},
   "outputs": [],
   "source": [
    "from langchain_openai  import ChatOpenAI\n",
    "\n",
    "llm = ChatOpenAI(\n",
    "    temperature=0,\n",
    "    model=\"gpt-3.5-turbo\",\n",
    ")"
   ]
  },
  {
   "cell_type": "markdown",
   "metadata": {},
   "source": [
    "搭建工具\n",
    "\n",
    "- serpai是一个聚合搜索引擎，需要安装谷歌搜索包以及申请账号 https://serpapi.com/manage-api-key\n",
    "- llm-math是一个封装好的数学计算链\n",
    "- pip install google-search-results"
   ]
  },
  {
   "cell_type": "code",
   "execution_count": 13,
   "metadata": {},
   "outputs": [
    {
     "name": "stdout",
     "output_type": "stream",
     "text": [
      "\n",
      "\n",
      "\u001b[1m> Entering new AgentExecutor chain...\u001b[0m\n",
      "\u001b[32;1m\u001b[1;3mI need to find out who the current President of the United States is and then calculate the square of his age.\n",
      "Action: Search\n",
      "Action Input: Current President of the United States\u001b[0m\n",
      "Observation: \u001b[36;1m\u001b[1;3mJoe Biden\u001b[0m\n",
      "Thought:\u001b[32;1m\u001b[1;3mNow I need to find out Joe Biden's age and calculate the square of it.\n",
      "Action: Search\n",
      "Action Input: Joe Biden age\u001b[0m\n",
      "Observation: \u001b[36;1m\u001b[1;3m81 years\u001b[0m\n",
      "Thought:\u001b[32;1m\u001b[1;3mI will now calculate the square of Joe Biden's age, which is 81.\n",
      "Action: Calculator\n",
      "Action Input: 81^2\u001b[0m\n",
      "Observation: \u001b[33;1m\u001b[1;3mAnswer: 6561\u001b[0m\n",
      "Thought:\u001b[32;1m\u001b[1;3mI now know the final answer.\n",
      "Final Answer: 6561\u001b[0m\n",
      "\n",
      "\u001b[1m> Finished chain.\u001b[0m\n"
     ]
    },
    {
     "data": {
      "text/plain": [
       "{'input': '请问现任的美国总统是谁？他的年龄的平方是多少?', 'output': '6561'}"
      ]
     },
     "execution_count": 13,
     "metadata": {},
     "output_type": "execute_result"
    }
   ],
   "source": [
    "from langchain.agents import load_tools\n",
    "\n",
    "tools = load_tools([\"serpapi\",\"llm-math\"], llm=llm)\n",
    "\n",
    "#定义agent,使用小样本增强生成类型\n",
    "from langchain.agents import initialize_agent\n",
    "from langchain.agents import AgentType\n",
    "\n",
    "agent = initialize_agent(\n",
    "    tools,\n",
    "    llm,\n",
    "    agent=AgentType.ZERO_SHOT_REACT_DESCRIPTION,#这里有不同的类型\n",
    "    verbose=True,#是否打印日志\n",
    ")\n",
    "# agent.invoke(\"请问现任的美国总统是谁？他的年龄的平方是多少?\")"
   ]
  },
  {
   "cell_type": "code",
   "execution_count": 15,
   "metadata": {},
   "outputs": [
    {
     "name": "stdout",
     "output_type": "stream",
     "text": [
      "\n",
      "\n",
      "\u001b[1m> Entering new AgentExecutor chain...\u001b[0m\n",
      "\u001b[32;1m\u001b[1;3m我需要使用搜索引擎来找到这个问题的答案\n",
      "Action: Search\n",
      "Action Input: 在中国现在做什么才能赚到很多钱\u001b[0m\n",
      "Observation: \u001b[36;1m\u001b[1;3m['多数的业务以线上为主，这可能因为数字化趋势下，年轻人更偏向于线上的创业模式。 同时，也有很多年轻人选择线下业务，比如开餐饮店、酒店、零售、贸易等，这需要更多的初始投资和运营成本。 10%有过融资，90%属于个人生意，最终才能够赚到如此多的利润。 否则如果公司有过融资历史，则分润可能需要 ...', '我问一个问题，这两年创业赚钱的关键词是什么？根据自己的理解，大家可以在留言里面说一说。 我觉得第一个关键词就是共享经济。 大家知道，今年的共享经济越来越繁荣，从共享单车、共享电动车再到共享汽车、共享豪车，接着再有共享充电宝、共享篮球，现在连共享女友都有了，未来是不是一切都可以共享，我们不敢想象……', '不少人在1-3年之后，选择了逐步离开平台，搭建属于自己的业务平台，赚得更多的钱。 国内市场. 如果做国内市场，我建议你尽可能一开始就为自己搭建属于自己的业务系统和接单 ...', '... 赚到钱了。今天很多我认识的老朋友们觉得很困惑，因为今天我们面向未来看，钱在哪里？整个资产，整个产业进入到了新的迭代状态。我认为钱在这四个地方：新实业、新消费 ...', '日子过的灰头土脸，就像水缸里的葫芦，刚按下这头，另一头又翘了起来... 也想过折腾折腾多赚点钱. 干过微商，从兴致冲冲到好友屏蔽只用了不到 ...', '这一行可能竞争激烈，但如果你多年来积累了一套技能，甚至有一门你想学习的技能，就能够赚到钱。 例如，你可以将网站设计、市场营销、文案写作或应用开发 ...', '如果说成年人的话，餐饮，国内餐饮只要能薄利多销就永远不会缺钱，北大清华门口卖鹅腿都能挣钱。不想辛苦的话，那就外贸，记住小语种外贸。有点小门路 ...', '社会分工日益细化和标准化的今天，个人的短板对生产协作的影响已经越来越弱，而你的长项才更加凸显自身价值。别人是否跟你合作，从而携手赚更多的钱，关键 ...', '百度创始人李彦宏尽管看准了搜索的未来，但最初也找不到明确的盈利模式，先后学习过美国的Inkotomi、Akamai Technologies、Verity、Google等多家公司，最终找到适合自己的 ...', '未来会有很多商家会用低利润（甚至0利润/负利润）的产品去交换“消费数据”，吸引大家聚集而来，然后利用另外一套隐含的逻辑去挣钱。因此我们要放弃利润，改收会费。 未来 ...']\u001b[0m\n",
      "Thought:\u001b[32;1m\u001b[1;3m我现在知道了如何在中国赚很多钱的方法\n",
      "Final Answer: 多数的业务以线上为主，年轻人更偏向于线上的创业模式，也有很多年轻人选择线下业务，需要更多的初始投资和运营成本。 10%有过融资，90%属于个人生意，最终才能够赚到如此多的利润。\u001b[0m\n",
      "\n",
      "\u001b[1m> Finished chain.\u001b[0m\n"
     ]
    },
    {
     "data": {
      "text/plain": [
       "{'input': '在中国现在做什么才能赚到很多钱?用中文输出',\n",
       " 'output': '多数的业务以线上为主，年轻人更偏向于线上的创业模式，也有很多年轻人选择线下业务，需要更多的初始投资和运营成本。 10%有过融资，90%属于个人生意，最终才能够赚到如此多的利润。'}"
      ]
     },
     "execution_count": 15,
     "metadata": {},
     "output_type": "execute_result"
    }
   ],
   "source": [
    "agent.invoke(\"在中国现在做什么才能赚到很多钱?用中文输出\")"
   ]
  },
  {
   "cell_type": "code",
   "execution_count": 16,
   "metadata": {},
   "outputs": [
    {
     "name": "stdout",
     "output_type": "stream",
     "text": [
      "\n",
      "\n",
      "\u001b[1m> Entering new AgentExecutor chain...\u001b[0m\n",
      "\u001b[32;1m\u001b[1;3m我需要搜索关于未来AI Agent应用市场的信息\n",
      "Action: Search\n",
      "Action Input: 未来AI Agent应用市场规模及应用领域\u001b[0m\n",
      "Observation: \u001b[36;1m\u001b[1;3m['随着AI Agent变得越来越易用和高效，\"Agent+\"的产品越来越多，未来AI Agent有望成为AI应用层的基本架构，涵盖toC和toB产品等不同领域。 LLM是Agent能力的 ...', '未来AI智能体的普及应用，将会造就一个极其庞大的市场。大模型厂商、技术供应商、企业服务软件厂商、初创企业以及各领域的大型企业，都将参与到这场AI智能 ...', 'AI 将为计算机带来软硬件层面的重构，AIOS 在未来是支持Agent 的. 重要基础。 ▫ 从产业演进的角度看，应用发展的过程表现出了一定的共性。从模型角度看， ...', '技术进步与应用场景拓展将推动AI Agent在更多领域发挥关键作用。随着企业智能化需求增长，AI Agent市场规模将持续扩大。 AI Agent热潮：揭秘当前市场 ...', '这篇文章主要介绍了基于大型模型的AI Agent的发展历程、框架结构、应用方向以及面临的挑战。AI Agent是一种能够感知环境、进行决策和执行动作的智能实体，具备通过独立 ...', '这意味着，未来AI Agent能够广泛应用于智能手机、AR/VR、机器人、智能汽车等端侧设备，为用户交互体验更加流畅、智能。 另一方面，由于V3具有多模态 ...', '未来AI智能体的普及应用，将会造就一个极其庞大的市场。大模型厂商、技术供应商、企业服务软件厂商、初创企业以及各领域的大型企业，都将参与到这场AI智能 ...', 'AI Agent目前还处于很早期的阶段，但是我们已经看到有非常多创新的可能性，从开创性的研究到概念验证到早期应用，而所有这些都暗示了AI 的巨大潜力。', '在2023年，科技产业充满了喧嚣和骚动，人工智能普及到了各个领域，各个产业都竭尽全力投入精力和资源，生怕错过通向未来的快车。当大部分产业从业者都 ...', '根据MarketsandMarkets预测，至2028年全球AI Agents市场规模将达到285亿美元，2023-2028年CAGR将达到43.0%。未来几年AI Agents有望迎来高速发展期。 AI ...']\u001b[0m\n",
      "Thought:\u001b[32;1m\u001b[1;3m我需要总结这些信息来回答原始问题\n",
      "Action: Search\n",
      "Action Input: 未来AI Agent应用市场规模及应用领域总结\u001b[0m\n",
      "Observation: \u001b[36;1m\u001b[1;3m['目前主要案例是个人编程类工具，如GitWit、GPT-Engineer等， Embra AI（MAC个人助理）、Dust（生产力助手）等个人生产力领域的项目数量也在不断增长。', '今天分享的AI Agent系列深度研究报告：《AI Agent行业报告：框架拆解、应用方向、应用领域及相关公司深度梳理》。 （报告出品方：慧博智能投研）.', '这篇文章主要介绍了基于大型模型的AI Agent的发展历程、框架结构、应用方向以及面临的挑战。AI Agent是一种能够感知环境、进行决策和执行动作的智能实体，具备通过独立 ...', 'AI Agent应用于教育领域，具备自适应学习、个性化推荐及数据分析等多种特性。 它可为教育者和学习者提供个性化、智能化和高效化的服务，能够在教育过程中 ...', 'AI 将为计算机带来软硬件层面的重构，AIOS 在未来是支持Agent 的. 重要基础。 ▫ 从产业演进的角度看，应用发展的过程表现出了一定的共性。从模型角度看， ...', '在数字化、智能化的时代，人工智能（AI）已经渗透到各个行业领域，其中AI Agent 作为人工智能的重要分支，正在引发一场前所未有的行业融合革命。', '未来新质生产力Agent的起源与应用. 如今，AI Agent已经成为人工智能领域的重要组成部分，为人类带来了巨大的便利和发展机遇。Agent智能体可以根据环境 ...', '随着AI Agent变得越来越易用和高效，\"Agent+\"的产品越来越多，未来AI Agent有望成为AI应用层的基本架构，涵盖toC和toB产品等不同领域。LLM是Agent能力的增 ...', '鉴于AI智能体的多重优势以及未来市场前景，接下来必然会有更多领域推出不同功能的AI Agent，而面向不同领域不同业务场景和功能的AI智能体，也将成为LLM ...', '统计来看，AI应用按应用领域可以分为通用软件、工具型应用、行业软件、智能硬件四大类。在通用软件市场，生成式AI在办公软件、企业服务、IT运维、软件 ...']\u001b[0m\n",
      "Thought:\u001b[32;1m\u001b[1;3m根据搜索结果，未来AI Agent应用市场规模将持续扩大，涵盖了个人生产力、教育、智能手机、AR/VR、机器人、智能汽车等领域。\n",
      "Final Answer: 未来AI Agent应用市场规模将持续扩大，涵盖了个人生产力、教育、智能手机、AR/VR、机器人、智能汽车等领域。\u001b[0m\n",
      "\n",
      "\u001b[1m> Finished chain.\u001b[0m\n"
     ]
    },
    {
     "data": {
      "text/plain": [
       "{'input': '未来AI Agent的应用市场有多大?能做哪些方面的应用？用中文输出',\n",
       " 'output': '未来AI Agent应用市场规模将持续扩大，涵盖了个人生产力、教育、智能手机、AR/VR、机器人、智能汽车等领域。'}"
      ]
     },
     "execution_count": 16,
     "metadata": {},
     "output_type": "execute_result"
    }
   ],
   "source": [
    "agent.invoke(\"未来AI Agent的应用市场有多大?能做哪些方面的应用？用中文输出\")"
   ]
  }
 ],
 "metadata": {
  "kernelspec": {
   "display_name": "Python 3",
   "language": "python",
   "name": "python3"
  },
  "language_info": {
   "codemirror_mode": {
    "name": "ipython",
    "version": 3
   },
   "file_extension": ".py",
   "mimetype": "text/x-python",
   "name": "python",
   "nbconvert_exporter": "python",
   "pygments_lexer": "ipython3",
   "version": "3.12.3"
  }
 },
 "nbformat": 4,
 "nbformat_minor": 2
}
