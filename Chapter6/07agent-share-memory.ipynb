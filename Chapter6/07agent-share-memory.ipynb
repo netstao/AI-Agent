{
 "cells": [
  {
   "cell_type": "markdown",
   "metadata": {},
   "source": [
    "# LangChain 中的Agents如何实现？\n",
    "- 在agent与tool之间共享记忆，让任务更精准\n",
    "    - LLM\n",
    "    - Tools\n",
    "    - Memory"
   ]
  },
  {
   "cell_type": "markdown",
   "metadata": {},
   "source": [
    "# 在agent与tool之间共享记忆\n",
    "- 自定义一个工具用来LLMChain来总结内容\n",
    "- 使用readonlymemory来共享记忆\n",
    "- 观察共享与不共享的区别"
   ]
  },
  {
   "cell_type": "code",
   "execution_count": 1,
   "metadata": {},
   "outputs": [
    {
     "data": {
      "text/plain": [
       "True"
      ]
     },
     "execution_count": 1,
     "metadata": {},
     "output_type": "execute_result"
    }
   ],
   "source": [
    "import os\n",
    "from dotenv import load_dotenv\n",
    "# Load environment variables from openai.env file\n",
    "load_dotenv()"
   ]
  },
  {
   "cell_type": "code",
   "execution_count": 13,
   "metadata": {},
   "outputs": [],
   "source": [
    "from langchain.agents import initialize_agent, Tool, AgentType\n",
    "from langchain.memory import ConversationBufferMemory, ReadOnlySharedMemory\n",
    "from langchain_openai import OpenAI, ChatOpenAI\n",
    "from langchain.chains import LLMChain\n",
    "from langchain.prompts import PromptTemplate,MessagesPlaceholder\n",
    "from langchain.utilities import SerpAPIWrapper"
   ]
  },
  {
   "cell_type": "markdown",
   "metadata": {},
   "source": [
    "大模型"
   ]
  },
  {
   "cell_type": "code",
   "execution_count": 14,
   "metadata": {},
   "outputs": [],
   "source": [
    "llm = ChatOpenAI(\n",
    "    temperature = 0,\n",
    "    model=\"gpt-3.5-turbo\",\n",
    ")"
   ]
  },
  {
   "cell_type": "markdown",
   "metadata": {},
   "source": [
    "创建一条链来总结对话"
   ]
  },
  {
   "cell_type": "code",
   "execution_count": 15,
   "metadata": {},
   "outputs": [],
   "source": [
    "template = \"\"\"以下是一段AI机器人和人类的对话:\n",
    "{chat_history}\n",
    "根据输入和上面的对话记录写一份对话总结.\n",
    "输入: {input}\"\"\"\n",
    "\n",
    "prompt = PromptTemplate(\n",
    "    input_variables=[\"input\",\"chat_history\"],\n",
    "    template=template,\n",
    ")\n",
    "\n",
    "memory = ConversationBufferMemory(\n",
    "    memory_key=\"chat_history\",\n",
    "    return_messages=True,\n",
    ")\n",
    "readonlymemory = ReadOnlySharedMemory(memory=memory)\n",
    "summary_chain = LLMChain(\n",
    "    llm=llm,\n",
    "    prompt=prompt,\n",
    "    verbose=True,\n",
    "    memory=readonlymemory,\n",
    ")"
   ]
  },
  {
   "cell_type": "markdown",
   "metadata": {},
   "source": [
    "构建工具"
   ]
  },
  {
   "cell_type": "code",
   "execution_count": 16,
   "metadata": {},
   "outputs": [
    {
     "name": "stdout",
     "output_type": "stream",
     "text": [
      "[Tool(name='Search', description='当需要了解实时的信息或者你不知道的事时候可以使用搜索工具', func=<bound method SerpAPIWrapper.run of SerpAPIWrapper(search_engine=<class 'serpapi.google_search.GoogleSearch'>, params={'engine': 'google', 'google_domain': 'google.com', 'gl': 'us', 'hl': 'en'}, serpapi_api_key='4ba6f3d3a1010b2252ca53ebe8fc77c1727eadbc894149a03a5fb5039d86194c', aiosession=None)>), Tool(name='Summary', description='当你被要求总结一段对话的时候可以使用这个工具，工具输入必须为字符串，只在必要时使用', func=<function SummaryChainFun at 0x000002800B5AEFC0>)]\n"
     ]
    }
   ],
   "source": [
    "#搜索工具\n",
    "search = SerpAPIWrapper()\n",
    "#总结工具\n",
    "def SummaryChainFun(history):\n",
    "    print(\"\\n==============总结链开始运行==============\")\n",
    "    print(\"输入历史: \",history)\n",
    "    summary_chain.run(history)\n",
    "\n",
    "tools = [\n",
    "    Tool(\n",
    "        name=\"Search\",\n",
    "        func=search.run,\n",
    "        description=\"当需要了解实时的信息或者你不知道的事时候可以使用搜索工具\",\n",
    "    ),\n",
    "    Tool(\n",
    "        name=\"Summary\",\n",
    "        func=SummaryChainFun,\n",
    "        description=\"当你被要求总结一段对话的时候可以使用这个工具，工具输入必须为字符串，只在必要时使用\",\n",
    "    ),\n",
    "]\n",
    "print(tools)"
   ]
  },
  {
   "cell_type": "code",
   "execution_count": 17,
   "metadata": {},
   "outputs": [],
   "source": [
    "memory = ConversationBufferMemory(\n",
    "    memory_key=\"chat_history\",\n",
    "    return_messages=True,\n",
    ")"
   ]
  },
  {
   "cell_type": "code",
   "execution_count": 18,
   "metadata": {},
   "outputs": [],
   "source": [
    "agent_chain = initialize_agent(\n",
    "    tools,\n",
    "    llm,\n",
    "    agent=AgentType.ZERO_SHOT_REACT_DESCRIPTION,\n",
    "    verbose=True,\n",
    "    handle_parsing_errors=True,\n",
    "    memory=memory,\n",
    ")"
   ]
  },
  {
   "cell_type": "code",
   "execution_count": 19,
   "metadata": {},
   "outputs": [
    {
     "name": "stdout",
     "output_type": "stream",
     "text": [
      "Answer the following questions as best you can. You have access to the following tools:\n",
      "\n",
      "Search: 当需要了解实时的信息或者你不知道的事时候可以使用搜索工具\n",
      "Summary: 当你被要求总结一段对话的时候可以使用这个工具，工具输入必须为字符串，只在必要时使用\n",
      "\n",
      "Use the following format:\n",
      "\n",
      "Question: the input question you must answer\n",
      "Thought: you should always think about what to do\n",
      "Action: the action to take, should be one of [Search, Summary]\n",
      "Action Input: the input to the action\n",
      "Observation: the result of the action\n",
      "... (this Thought/Action/Action Input/Observation can repeat N times)\n",
      "Thought: I now know the final answer\n",
      "Final Answer: the final answer to the original input question\n",
      "\n",
      "Begin!\n",
      "\n",
      "Question: {input}\n",
      "Thought:{agent_scratchpad}\n"
     ]
    }
   ],
   "source": [
    "print(agent_chain.agent.llm_chain.prompt.template)"
   ]
  },
  {
   "cell_type": "code",
   "execution_count": 20,
   "metadata": {},
   "outputs": [
    {
     "name": "stdout",
     "output_type": "stream",
     "text": [
      "Have a conversation with a human, answering the following questions as best you can. You have access to the following tools:\n",
      "\n",
      "Search: 当需要了解实时的信息或者你不知道的事时候可以使用搜索工具\n",
      "Summary: 当你被要求总结一段对话的时候可以使用这个工具，工具输入必须为字符串，只在必要时使用\n",
      "\n",
      "Use the following format:\n",
      "\n",
      "Question: the input question you must answer\n",
      "Thought: you should always think about what to do\n",
      "Action: the action to take, should be one of [Search, Summary]\n",
      "Action Input: the input to the action\n",
      "Observation: the result of the action\n",
      "... (this Thought/Action/Action Input/Observation can repeat N times)\n",
      "Thought: I now know the final answer\n",
      "Final Answer: the final answer to the original input question\n",
      "\n",
      "Begin!\"\n",
      "{chat_history}\n",
      "Question: {input}\n",
      "{agent_scratchpad}\n"
     ]
    }
   ],
   "source": [
    "prefix = \"\"\"Have a conversation with a human, answering the following questions as best you can. You have access to the following tools:\"\"\"\n",
    "suffix = \"\"\"Begin!\"\n",
    "{chat_history}\n",
    "Question: {input}\n",
    "{agent_scratchpad}\"\"\"\n",
    "\n",
    "agent_chain = initialize_agent(\n",
    "    tools,\n",
    "    llm,\n",
    "    agent=AgentType.ZERO_SHOT_REACT_DESCRIPTION,\n",
    "    verbose=True,\n",
    "    handle_parsing_errors=True,\n",
    "    agent_kwargs={\n",
    "        \"prefix\":prefix,\n",
    "        \"suffix\":suffix,\n",
    "        \"agent_scratchpad\":MessagesPlaceholder(\"agent_scratchpad\"),\n",
    "        \"chat_history\":MessagesPlaceholder(\"chat_history\"),\n",
    "        \"input\":MessagesPlaceholder(\"input\"),\n",
    "    },\n",
    "    memory=memory,\n",
    ")\n",
    "print(agent_chain.agent.llm_chain.prompt.template)"
   ]
  },
  {
   "cell_type": "code",
   "execution_count": 22,
   "metadata": {},
   "outputs": [
    {
     "name": "stdout",
     "output_type": "stream",
     "text": [
      "\n",
      "\n",
      "\u001b[1m> Entering new AgentExecutor chain...\u001b[0m\n",
      "\u001b[32;1m\u001b[1;3mThought: I need to find out who the 45th president of the United States is.\n",
      "Action: Search\n",
      "Action Input: 美国第45任总统是谁?\u001b[0m\n",
      "Observation: \u001b[36;1m\u001b[1;3m['州内建县、镇、市和乡各级，各级均设有选任政府。 美国的政府权力和职能由三个政府分支机构担当：立法机关、司法机关和行政机关。《宪法》第1条 ...', '1789年，选举人团投票一致通过，选举出乔治·华盛顿为第1任美国总统。第7任总统安德鲁·杰克逊，在1828年多数限制非土地所有者投票权法律被废除后，成为首位由全体白人男性 ...', '唐纳德·特朗普（Donald Trump，1946年6月14日—），出生于美国纽约，祖籍德国巴伐利亚自由州，德裔美国共和党籍政治家、企业家、房地产商人、电视人，第45任美国 ...', '在1951年美国宪法第二十二修正案通过之后，总统仅限于2个当选任期，总共不超过10年。若在任总统死亡、辞职、被罢免、被弹劾，则由副总统接替其职务。总统必须年满35岁，在 ...', '赢得11月8日总统大选的特朗普在拥有538个成员的选举人团票选中获得所需的270张选举人票，正式成为美国第45任总统。', '美国第45任总统唐纳德·特朗普在美国政治史上可谓独树一帜，其权力核心圈也开了不少先河，从年龄、财富到人生哲学，为美国历史和白宫历史添了不少\"第 ...', '在内政上，特朗普在就任当天便以行政命令的方式叫停“奥巴马医保”，此后又动用行政权力削减其实际效力。在移民问题上，特朗普相继出台强硬举措，“限移令”、 ...', '共和党总统候选人特朗普在佛罗里达州，俄亥俄州，北卡罗来纳州，爱荷华州和宾夕法尼亚等关键的州展示了自己的实力，赢得的代表数字升到274。 赢得加利福尼亚州和内华达州 ...', '2016年年底的美国总统选举，共和党特朗普胜选，出任美国第45任总统，各国舆论为之轰动。人们关心此次选举所反映的美国社会诸多问题，关心2017年新一届美国政府的政策 ...', '【编者按】当地时间11月9日，美国总统大选最终结果出炉：共和党候选人唐纳德·特朗普击败民主党候选人希拉里·克林顿，成功当选为美国第57届、第45任 ...']\u001b[0m\n",
      "Thought:\u001b[32;1m\u001b[1;3mI now know the final answer\n",
      "Final Answer: 唐纳德·特朗普\u001b[0m\n",
      "\n",
      "\u001b[1m> Finished chain.\u001b[0m\n"
     ]
    },
    {
     "data": {
      "text/plain": [
       "'唐纳德·特朗普'"
      ]
     },
     "execution_count": 22,
     "metadata": {},
     "output_type": "execute_result"
    }
   ],
   "source": [
    "agent_chain.run(input=\"美国第45任总统是谁?,中文输出\")"
   ]
  },
  {
   "cell_type": "code",
   "execution_count": 23,
   "metadata": {},
   "outputs": [
    {
     "name": "stdout",
     "output_type": "stream",
     "text": [
      "\n",
      "\n",
      "\u001b[1m> Entering new AgentExecutor chain...\u001b[0m\n",
      "\u001b[32;1m\u001b[1;3mThought: I need to find out the name of the 45th President of the United States' wife.\n",
      "Action: Search\n",
      "Action Input: Name of Donald Trump's wife\u001b[0m\n",
      "Observation: \u001b[36;1m\u001b[1;3m[{'title': 'Barron Trump selected to be a Florida delegate at Republican National Convention', 'link': 'https://www.cnn.com/2024/05/09/politics/barron-trump-delegate-republican-national-convention/index.html', 'source': 'CNN', 'date': '24 hours ago', 'thumbnail': 'https://encrypted-tbn0.gstatic.com/images?q=tbn:ANd9GcSjru2awym3kbb1D5O5HqwqC3l8W_gpWat09X93iFSi6ynpmStMlNbETP0&usqp=CAI&s'}, {'title': \"Barron Trump: Donald Trump's youngest son to play role at Republican convention\", 'link': 'https://www.bbc.com/news/world-us-canada-68982873', 'source': 'BBC', 'date': '23 hours ago', 'thumbnail': 'https://encrypted-tbn0.gstatic.com/images?q=tbn:ANd9GcTvGYV7afdnzbId8Xr79sv-IIqxTfXqFWTHwIuyhByNlUMoFLnlIj5btrs&usqp=CAI&s'}, {'title': 'Takeaways from Day 14 of the Donald Trump hush money trial', 'link': 'https://www.cnn.com/2024/05/09/politics/takeaways-from-day-14-of-the-donald-trump-hush-money-trial/index.html', 'source': 'CNN', 'date': '14 hours ago', 'thumbnail': 'https://encrypted-tbn0.gstatic.com/images?q=tbn:ANd9GcROx7UHH6iYiO6PQQJIwuEx8KNvCh94zf0MDIKYiXPOLKc6JqeOtn_CIx8&usqp=CAI&s'}]\u001b[0m\n",
      "Thought:\u001b[32;1m\u001b[1;3mI need to refine my search to find the name of Donald Trump's wife.\n",
      "Action: Search\n",
      "Action Input: Melania Trump name\u001b[0m\n",
      "Observation: \u001b[36;1m\u001b[1;3mMelania Trump (born Melanija Knavs; April 26, 1970) is a Slovenian-American former model who served as the first lady of the United States from 2017 to 2021 as the wife of President Donald Trump. She is the first naturalized citizen to become first lady and the second foreign-born first lady after Louisa Adams.\u001b[0m\n",
      "Thought:\u001b[32;1m\u001b[1;3mI now know the final answer\n",
      "Final Answer: Melania Trump\u001b[0m\n",
      "\n",
      "\u001b[1m> Finished chain.\u001b[0m\n"
     ]
    },
    {
     "data": {
      "text/plain": [
       "'Melania Trump'"
      ]
     },
     "execution_count": 23,
     "metadata": {},
     "output_type": "execute_result"
    }
   ],
   "source": [
    "agent_chain.run(input=\"他的夫人叫什么名字?\")"
   ]
  },
  {
   "cell_type": "code",
   "execution_count": 24,
   "metadata": {},
   "outputs": [
    {
     "name": "stdout",
     "output_type": "stream",
     "text": [
      "[HumanMessage(content='美国第45任总统是谁?'), AIMessage(content='Donald Trump'), HumanMessage(content='美国第45任总统是谁?,中文输出'), AIMessage(content='唐纳德·特朗普'), HumanMessage(content='他的夫人叫什么名字?'), AIMessage(content='Melania Trump')]\n"
     ]
    }
   ],
   "source": [
    "# 记忆内容\n",
    "print(agent_chain.memory.buffer)"
   ]
  },
  {
   "cell_type": "code",
   "execution_count": 25,
   "metadata": {},
   "outputs": [
    {
     "name": "stdout",
     "output_type": "stream",
     "text": [
      "\n",
      "\n",
      "\u001b[1m> Entering new AgentExecutor chain...\u001b[0m\n",
      "\u001b[32;1m\u001b[1;3mThought: I need to summarize the conversation to answer the question.\n",
      "Action: Summary\n",
      "Action Input: \"美国第45任总统是谁? Donald Trump 美国第45任总统是谁?,中文输出 唐纳德·特朗普 他的夫人叫什么名字? Melania Trump\"\u001b[0m\n",
      "==============总结链开始运行==============\n",
      "输入历史:  美国第45任总统是谁? Donald Trump 美国第45任总统是谁?,中文输出 唐纳德·特朗普 他的夫人叫什么名字? Melania Trump\n",
      "\n",
      "\n",
      "\u001b[1m> Entering new LLMChain chain...\u001b[0m\n",
      "Prompt after formatting:\n",
      "\u001b[32;1m\u001b[1;3m以下是一段AI机器人和人类的对话:\n",
      "[]\n",
      "根据输入和上面的对话记录写一份对话总结.\n",
      "输入: 美国第45任总统是谁? Donald Trump 美国第45任总统是谁?,中文输出 唐纳德·特朗普 他的夫人叫什么名字? Melania Trump\u001b[0m\n",
      "\n",
      "\u001b[1m> Finished chain.\u001b[0m\n",
      "\n",
      "Observation: \u001b[33;1m\u001b[1;3mNone\u001b[0m\n",
      "Thought:\u001b[32;1m\u001b[1;3mI need to summarize the conversation to answer the question.\n",
      "Action: Summary\n",
      "Action Input: \"美国第45任总统是谁? Donald Trump 美国第45任总统是谁?,中文输出 唐纳德·特朗普 他的夫人叫什么名字? Melania Trump\"\u001b[0m\n",
      "==============总结链开始运行==============\n",
      "输入历史:  美国第45任总统是谁? Donald Trump 美国第45任总统是谁?,中文输出 唐纳德·特朗普 他的夫人叫什么名字? Melania Trump\n",
      "\n",
      "\n",
      "\u001b[1m> Entering new LLMChain chain...\u001b[0m\n",
      "Prompt after formatting:\n",
      "\u001b[32;1m\u001b[1;3m以下是一段AI机器人和人类的对话:\n",
      "[]\n",
      "根据输入和上面的对话记录写一份对话总结.\n",
      "输入: 美国第45任总统是谁? Donald Trump 美国第45任总统是谁?,中文输出 唐纳德·特朗普 他的夫人叫什么名字? Melania Trump\u001b[0m\n",
      "\n",
      "\u001b[1m> Finished chain.\u001b[0m\n",
      "\n",
      "Observation: \u001b[33;1m\u001b[1;3mNone\u001b[0m\n",
      "Thought:\u001b[32;1m\u001b[1;3mI now know the final answer\n",
      "Final Answer: The conversation included discussing who the 45th President of the United States was (Donald Trump), his Chinese name (唐纳德·特朗普), and the name of his wife (Melania Trump).\u001b[0m\n",
      "\n",
      "\u001b[1m> Finished chain.\u001b[0m\n"
     ]
    },
    {
     "data": {
      "text/plain": [
       "'The conversation included discussing who the 45th President of the United States was (Donald Trump), his Chinese name (唐纳德·特朗普), and the name of his wife (Melania Trump).'"
      ]
     },
     "execution_count": 25,
     "metadata": {},
     "output_type": "execute_result"
    }
   ],
   "source": [
    "agent_chain.run(input=\"我们都聊了什么？\")"
   ]
  },
  {
   "cell_type": "code",
   "execution_count": 27,
   "metadata": {},
   "outputs": [
    {
     "name": "stdout",
     "output_type": "stream",
     "text": [
      "\n",
      "\n",
      "\u001b[1m> Entering new AgentExecutor chain...\u001b[0m\n",
      "\u001b[32;1m\u001b[1;3mThought: I should use the Summary tool to summarize the conversation in Chinese for a 5-year-old.\n",
      "Action: Summary\n",
      "Action Input: \"The conversation was about who the President of the United States was, his name in Chinese, and the name of his wife.\"\u001b[0m\n",
      "==============总结链开始运行==============\n",
      "输入历史:  The conversation was about who the President of the United States was, his name in Chinese, and the name of his wife.\n",
      "\n",
      "\n",
      "\u001b[1m> Entering new LLMChain chain...\u001b[0m\n",
      "Prompt after formatting:\n",
      "\u001b[32;1m\u001b[1;3m以下是一段AI机器人和人类的对话:\n",
      "[]\n",
      "根据输入和上面的对话记录写一份对话总结.\n",
      "输入: The conversation was about who the President of the United States was, his name in Chinese, and the name of his wife.\u001b[0m\n",
      "\n",
      "\u001b[1m> Finished chain.\u001b[0m\n",
      "\n",
      "Observation: \u001b[33;1m\u001b[1;3mNone\u001b[0m\n",
      "Thought:\u001b[32;1m\u001b[1;3mI need to provide a simple summary in Chinese for a 5-year-old.\n",
      "Final Answer: 这次对话是关于美国总统是谁，他的中文名字，以及他妻子的名字。\u001b[0m\n",
      "\n",
      "\u001b[1m> Finished chain.\u001b[0m\n"
     ]
    },
    {
     "data": {
      "text/plain": [
       "'这次对话是关于美国总统是谁，他的中文名字，以及他妻子的名字。'"
      ]
     },
     "execution_count": 27,
     "metadata": {},
     "output_type": "execute_result"
    }
   ],
   "source": [
    "agent_chain.run(input=\"帮我总结下目前的对话内容，给我5岁的儿子看看。中文输出\")"
   ]
  },
  {
   "cell_type": "code",
   "execution_count": 28,
   "metadata": {},
   "outputs": [
    {
     "name": "stdout",
     "output_type": "stream",
     "text": [
      "[HumanMessage(content='美国第45任总统是谁?'), AIMessage(content='Donald Trump'), HumanMessage(content='美国第45任总统是谁?,中文输出'), AIMessage(content='唐纳德·特朗普'), HumanMessage(content='他的夫人叫什么名字?'), AIMessage(content='Melania Trump'), HumanMessage(content='我们都聊了什么？'), AIMessage(content='The conversation included discussing who the 45th President of the United States was (Donald Trump), his Chinese name (唐纳德·特朗普), and the name of his wife (Melania Trump).'), HumanMessage(content='帮我总结下目前的对话内容，给我5岁的儿子看看'), AIMessage(content='The conversation was about who the President of the United States was, his name in Chinese, and the name of his wife.'), HumanMessage(content='帮我总结下目前的对话内容，给我5岁的儿子看看。中文输出'), AIMessage(content='这次对话是关于美国总统是谁，他的中文名字，以及他妻子的名字。')]\n"
     ]
    }
   ],
   "source": [
    "#查看短时记忆\n",
    "print(agent_chain.memory.buffer)"
   ]
  }
 ],
 "metadata": {
  "kernelspec": {
   "display_name": "Python 3",
   "language": "python",
   "name": "python3"
  },
  "language_info": {
   "codemirror_mode": {
    "name": "ipython",
    "version": 3
   },
   "file_extension": ".py",
   "mimetype": "text/x-python",
   "name": "python",
   "nbconvert_exporter": "python",
   "pygments_lexer": "ipython3",
   "version": "3.12.3"
  }
 },
 "nbformat": 4,
 "nbformat_minor": 2
}
