{
 "cells": [
  {
   "cell_type": "code",
   "execution_count": 1,
   "metadata": {},
   "outputs": [],
   "source": [
    "import os\n",
    "import os\n",
    "from dotenv import load_dotenv\n",
    "# Load environment variables from openai.env file\n",
    "load_dotenv(\"openai.env\")\n",
    "\n",
    "# Read the OPENAI_API_KEY from the environment\n",
    "api_key = os.getenv(\"OPENAI_API_KEY\")\n",
    "api_base = os.getenv(\"OPENAI_API_BASE\")\n",
    "os.environ[\"OPENAI_API_KEY\"] = api_key\n",
    "os.environ[\"OPENAI_API_BASE\"] = api_base"
   ]
  },
  {
   "cell_type": "markdown",
   "metadata": {},
   "source": [
    "# 在链上使用记忆\n",
    "- LLMChain\n",
    "- ConversationChain\n",
    "- 自定义\n",
    "- 同一个链合并使用多个记忆\n",
    "- 给一个多参数链增加记忆"
   ]
  },
  {
   "cell_type": "code",
   "execution_count": 3,
   "metadata": {},
   "outputs": [],
   "source": [
    "from langchain.chains import LLMChain\n",
    "from langchain.chat_models import ChatOpenAI\n",
    "from langchain.memory import ConversationBufferMemory\n",
    "from langchain.prompts import PromptTemplate"
   ]
  },
  {
   "cell_type": "code",
   "execution_count": 5,
   "metadata": {},
   "outputs": [
    {
     "name": "stderr",
     "output_type": "stream",
     "text": [
      "c:\\Programs\\Python\\Python312\\Lib\\site-packages\\langchain_core\\_api\\deprecation.py:119: LangChainDeprecationWarning: The class `ChatOpenAI` was deprecated in LangChain 0.0.10 and will be removed in 0.2.0. An updated version of the class exists in the langchain-openai package and should be used instead. To use it run `pip install -U langchain-openai` and import as `from langchain_openai import ChatOpenAI`.\n",
      "  warn_deprecated(\n"
     ]
    }
   ],
   "source": [
    "#自定义模板\n",
    "template = \"\"\"你是一个可以和人类对话的机器人.\n",
    "{chat_history}\n",
    "人类:{human_input}\n",
    "机器人:\"\"\"\n",
    "\n",
    "prompt= PromptTemplate(\n",
    "    template=template,\n",
    "    input_variables=[\"chat_history\", \"human_input\"],\n",
    ")\n",
    "memory = ConversationBufferMemory(\n",
    "    memory_key=\"chat_history\",\n",
    ")\n",
    "llm = ChatOpenAI(\n",
    "    temperature=0,\n",
    ")\n",
    "\n",
    "chain = LLMChain(\n",
    "    llm=llm,\n",
    "    memory=memory,\n",
    "    prompt=prompt,\n",
    "    verbose=True,\n",
    ")"
   ]
  },
  {
   "cell_type": "code",
   "execution_count": 10,
   "metadata": {},
   "outputs": [
    {
     "name": "stdout",
     "output_type": "stream",
     "text": [
      "\n",
      "\n",
      "\u001b[1m> Entering new LLMChain chain...\u001b[0m\n",
      "Prompt after formatting:\n",
      "\u001b[32;1m\u001b[1;3m你是一个可以和人类对话的机器人.\n",
      "Human: 我最新喜欢我的世界这个游戏，你还记得我叫什么吗？\n",
      "AI: 当然记得，你叫什么名字？\n",
      "Human: 你好，我叫啥\n",
      "AI: 你好，你叫什么名字？\n",
      "人类:你好，人可以活到多少岁\n",
      "机器人:\u001b[0m\n",
      "\n",
      "\u001b[1m> Finished chain.\u001b[0m\n"
     ]
    },
    {
     "data": {
      "text/plain": [
       "'你好，人类的寿命取决于许多因素，包括遗传、生活方式、环境等。一般来说，现代医学的发展使得人类的平均寿命在不断增加，但具体能活多少岁还是因人而异。希望你能健康长寿！如果你有任何健康问题或者想了解更多关于寿命的信息，可以随时问我。'"
      ]
     },
     "execution_count": 10,
     "metadata": {},
     "output_type": "execute_result"
    }
   ],
   "source": [
    "chain.predict(human_input=\"你好，人可以活到多少岁\")"
   ]
  },
  {
   "cell_type": "code",
   "execution_count": 11,
   "metadata": {},
   "outputs": [],
   "source": [
    "from langchain.chat_models import  ChatOpenAI\n",
    "from langchain.prompts import  (\n",
    "    ChatPromptTemplate,\n",
    "    HumanMessagePromptTemplate,\n",
    "    MessagesPlaceholder,\n",
    ")\n",
    "from langchain.schema import  SystemMessage"
   ]
  },
  {
   "cell_type": "code",
   "execution_count": 15,
   "metadata": {},
   "outputs": [
    {
     "name": "stdout",
     "output_type": "stream",
     "text": [
      "System: 你好，我是一个可以和人类对话的机器人\n",
      "Human: 你好，给我讲个笑话？\n"
     ]
    }
   ],
   "source": [
    "prompt = ChatPromptTemplate.from_messages(\n",
    "    [\n",
    "        SystemMessage(\n",
    "            content=\"你好，我是一个可以和人类对话的机器人\",\n",
    "            role=\"system\",\n",
    "        ),\n",
    "        MessagesPlaceholder(\n",
    "            variable_name=\"chat_history\",\n",
    "        ),\n",
    "        HumanMessagePromptTemplate.from_template(\n",
    "            \"{human_input}\"\n",
    "        ),\n",
    "    ]\n",
    ")\n",
    "\n",
    "print(prompt.format(human_input=\"你好，给我讲个笑话？\",chat_history=[]))"
   ]
  },
  {
   "cell_type": "code",
   "execution_count": 16,
   "metadata": {},
   "outputs": [],
   "source": [
    "memory = ConversationBufferMemory(\n",
    "    memory_key=\"chat_history\",\n",
    "    return_messages=True,\n",
    ")\n",
    "llm = ChatOpenAI(\n",
    "    temperature=0,\n",
    ")\n",
    "\n",
    "chain = LLMChain(\n",
    "    llm=llm,\n",
    "    memory=memory,\n",
    "    prompt=prompt,\n",
    "    verbose=True,\n",
    ")"
   ]
  },
  {
   "cell_type": "code",
   "execution_count": 19,
   "metadata": {},
   "outputs": [
    {
     "name": "stdout",
     "output_type": "stream",
     "text": [
      "\n",
      "\n",
      "\u001b[1m> Entering new LLMChain chain...\u001b[0m\n",
      "Prompt after formatting:\n",
      "\u001b[32;1m\u001b[1;3mSystem: 你好，我是一个可以和人类对话的机器人\n",
      "Human: 我叫tomie，我是一个AI应用程序猿\n",
      "AI: 你好，Tomie！很高兴认识你。作为一个AI应用程序猿，你对编程和人工智能方面有什么特别的兴趣或专长吗？如果有任何问题或想要讨论的话题，请随时告诉我。\n",
      "Human: 我想自己创业，基于langchain这个框架，未来有什么行业是指数级增长呢，和AI很好的结合起来\n",
      "AI: 创业是一个充满挑战和机遇的过程，尤其是在结合AI技术的领域。Langchain是一个区块链和智能合约平台，结合AI技术可以在许多行业中发挥重要作用。以下是一些可能具有指数级增长潜力的行业，可以考虑与AI技术结合起来：\n",
      "\n",
      "1. **医疗保健行业**：AI在医疗保健领域的应用非常广泛，包括医学影像分析、疾病诊断、个性化治疗等。结合Langchain的区块链技术，可以建立安全、透明的医疗数据共享平台，提高医疗保健服务的效率和质量。\n",
      "\n",
      "2. **金融科技行业**：AI在金融领域的应用也非常广泛，包括风险管理、欺诈检测、智能投资等。结合Langchain的智能合约技术，可以构建安全、智能的金融服务平台，提供更高效的金融服务。\n",
      "\n",
      "3. **物联网行业**：AI和区块链技术可以结合在物联网领域，实现设备之间的智能交互和数据共享。这将推动智能家居、智能城市等领域的发展。\n",
      "\n",
      "4. **教育行业**：AI在教育领域的应用也非常广泛，包括个性化教育、智能辅导等。结合Langchain的区块链技术，可以建立安全、透明的教育数据平台，提供更好的教育服务。\n",
      "\n",
      "以上只是一些可能的行业，实际上，几乎所有行业都可以通过结合AI和区块链技术来实现创新和增长。关键是找到一个市场需求强烈、技术应用前景广阔的领域，并结合自己的兴趣和专长，努力创造价值。祝你在创业道路上取得成功！如果有任何问题或需要进一步讨论的话题，请随时告诉我。\n",
      "Human: 我想自己创业，基于AI这个LangChain框架，未来有什么行业是指数级增长呢，和AI很好的结合起来\u001b[0m\n",
      "\n",
      "\u001b[1m> Finished chain.\u001b[0m\n"
     ]
    },
    {
     "data": {
      "text/plain": [
       "'LangChain是一个基于AI的区块链框架，结合这两个领域可以在许多行业中实现创新和增长。以下是一些可能具有指数级增长潜力的行业，可以考虑与LangChain框架结合起来：\\n\\n1. **智能合约和供应链管理**：结合AI技术和LangChain框架，可以构建智能合约平台来优化供应链管理，实现供应链的透明度、效率和安全性。这在制造业、零售业等行业有很大的应用潜力。\\n\\n2. **数字身份认证和安全**：利用LangChain框架的区块链技术和AI算法，可以构建安全的数字身份认证系统，保护用户的个人信息和数据安全。这在金融、医疗保健等领域有广泛的应用需求。\\n\\n3. **智能城市和物联网**：AI和LangChain框架可以结合在智能城市和物联网领域，实现城市基础设施的智能化管理和设备之间的智能互联。这将推动城市的可持续发展和智能化转型。\\n\\n4. **数字版权保护和内容分发**：利用LangChain框架的区块链技术和AI算法，可以构建安全的数字版权保护和内容分发平台，保护知识产权和促进内容创作产业的发展。\\n\\n以上只是一些可能的行业，实际上，几乎所有行业都可以通过结合AI和区块链技术来实现创新和增长。关键是找到一个市场需求强烈、技术应用前景广阔的领域，并结合自己的兴趣和专长，努力创造价值。祝你在创业道路上取得成功！如果有任何问题或需要进一步讨论的话题，请随时告诉我。'"
      ]
     },
     "execution_count": 19,
     "metadata": {},
     "output_type": "execute_result"
    }
   ],
   "source": [
    "chain.predict(human_input=\"我想自己创业，基于AI这个LangChain框架，未来有什么行业是指数级增长呢，和AI很好的结合起来\")"
   ]
  },
  {
   "cell_type": "markdown",
   "metadata": {},
   "source": [
    "# ConversationChain"
   ]
  },
  {
   "cell_type": "code",
   "execution_count": 20,
   "metadata": {},
   "outputs": [],
   "source": [
    "from langchain.chains import ConversationChain\n",
    "from langchain.chat_models import ChatOpenAI\n",
    "from langchain.memory import ConversationBufferMemory\n",
    "\n",
    "llm=ChatOpenAI(\n",
    "    temperature=0,\n",
    ")\n",
    "memory = ConversationBufferMemory(\n",
    "    memory_key=\"history\",\n",
    "    return_messages=True,\n",
    ")\n",
    "chain = ConversationChain(\n",
    "    llm=llm,\n",
    "    memory=memory,\n",
    "    verbose=True,\n",
    ")"
   ]
  },
  {
   "cell_type": "code",
   "execution_count": 24,
   "metadata": {},
   "outputs": [
    {
     "name": "stdout",
     "output_type": "stream",
     "text": [
      "\n",
      "\n",
      "\u001b[1m> Entering new ConversationChain chain...\u001b[0m\n",
      "Prompt after formatting:\n",
      "\u001b[32;1m\u001b[1;3mThe following is a friendly conversation between a human and an AI. The AI is talkative and provides lots of specific details from its context. If the AI does not know the answer to a question, it truthfully says it does not know.\n",
      "\n",
      "Current conversation:\n",
      "[HumanMessage(content='帮我做个一日游攻略'), AIMessage(content='当然！您想去哪里呢？如果您喜欢自然风光，我建议您去附近的山区或者湖泊。如果您喜欢历史文化，可以考虑去附近的古镇或博物馆。您喜欢什么类型的景点呢？'), HumanMessage(content='我想在家创业，用Nuxt做个官网，你可以帮我生成布局页面吗'), AIMessage(content='当然可以！Nuxt是一个非常强大的框架，可以帮助您快速搭建官网。您可以使用Nuxt提供的组件和布局来生成页面，也可以根据您的需求自定义页面布局。如果您需要帮助或有任何问题，请随时告诉我！我会尽力帮助您。祝您在家创业顺利！')]\n",
      "Human: 我想在家创业，用Nuxt做个官网，布局你可以帮我实现吗\n",
      "AI:\u001b[0m\n",
      "\n",
      "\u001b[1m> Finished chain.\u001b[0m\n"
     ]
    },
    {
     "data": {
      "text/plain": [
       "'当然可以！Nuxt是一个非常强大的框架，可以帮助您快速搭建官网。您可以使用Nuxt提供的组件和布局来生成页面，也可以根据您的需求自定义页面布局。如果您需要帮助或有任何问题，请随时告诉我！我会尽力帮助您。祝您在家创业顺利！'"
      ]
     },
     "execution_count": 24,
     "metadata": {},
     "output_type": "execute_result"
    }
   ],
   "source": [
    "chain.predict(input=\"我想在家创业，用Nuxt做个官网，布局你可以帮我实现吗\")"
   ]
  },
  {
   "cell_type": "code",
   "execution_count": 26,
   "metadata": {},
   "outputs": [],
   "source": [
    "#自定义一下，对其进行覆盖\n",
    "from langchain.chains import ConversationChain\n",
    "from langchain.memory import ConversationBufferMemory\n",
    "from langchain.prompts import PromptTemplate\n",
    "from langchain.chat_models import ChatOpenAI\n",
    "\n",
    "llm=ChatOpenAI(\n",
    "    temperature=0,\n",
    ")\n",
    "\n",
    "template = \"\"\"下面是一段AI与人类的对话，AI会针对人类问题，提供尽可能详细的回答，如果AI不知道答案，会直接回复'人类老爷，我真的不知道'.\n",
    "当前对话:\n",
    "{history}\n",
    "Human:{input}\n",
    "AI助手:\"\"\"\n",
    "\n",
    "prompt = PromptTemplate(\n",
    "    template=template,\n",
    "    input_variables=[\"history\", \"input\"],\n",
    ")\n",
    "\n",
    "chain = ConversationChain(\n",
    "    llm=llm,\n",
    "    memory=ConversationBufferMemory(\n",
    "        ai_prefix=\"AI助手\",\n",
    "        return_messages=True,\n",
    "    ),\n",
    "    prompt=prompt,\n",
    "    verbose=True,\n",
    ")"
   ]
  },
  {
   "cell_type": "code",
   "execution_count": 27,
   "metadata": {},
   "outputs": [
    {
     "name": "stdout",
     "output_type": "stream",
     "text": [
      "\n",
      "\n",
      "\u001b[1m> Entering new ConversationChain chain...\u001b[0m\n",
      "Prompt after formatting:\n",
      "\u001b[32;1m\u001b[1;3m下面是一段AI与人类的对话，AI会针对人类问题，提供尽可能详细的回答，如果AI不知道答案，会直接回复'人类老爷，我真的不知道'.\n",
      "当前对话:\n",
      "[]\n",
      "Human:你知道我叫什么名字吗?\n",
      "AI助手:\u001b[0m\n",
      "\n",
      "\u001b[1m> Finished chain.\u001b[0m\n"
     ]
    },
    {
     "data": {
      "text/plain": [
       "'人类老爷，我真的不知道。'"
      ]
     },
     "execution_count": 27,
     "metadata": {},
     "output_type": "execute_result"
    }
   ],
   "source": [
    "chain.predict(input=\"你知道我叫什么名字吗?\")"
   ]
  },
  {
   "cell_type": "markdown",
   "metadata": {},
   "source": [
    "# 同一个链合并使用多个memory"
   ]
  },
  {
   "cell_type": "code",
   "execution_count": 29,
   "metadata": {},
   "outputs": [],
   "source": [
    "from langchain.chains import ConversationChain\n",
    "from langchain.chat_models import ChatOpenAI\n",
    "from langchain.memory import (\n",
    "    ConversationBufferMemory,\n",
    "    ConversationSummaryMemory,\n",
    "    CombinedMemory\n",
    ")\n",
    "from langchain.prompts import PromptTemplate"
   ]
  },
  {
   "cell_type": "code",
   "execution_count": 30,
   "metadata": {},
   "outputs": [],
   "source": [
    "llm = ChatOpenAI(\n",
    "    temperature=0,\n",
    ")\n",
    "\n",
    "#使用CoversationSummaryMemory对对话进行总结\n",
    "summay = ConversationSummaryMemory(\n",
    "    llm=llm,\n",
    "    input_key=\"input\"\n",
    ")\n",
    "#使用ConversationBufferMemory对对话进行缓存\n",
    "cov_memory = ConversationBufferMemory(\n",
    "    memory_key=\"history_now\",\n",
    "    input_key=\"input\",\n",
    ")\n",
    "\n",
    "memory = CombinedMemory(\n",
    "    memories=[summay, cov_memory],\n",
    ")\n",
    "\n",
    "TEMPLATE = \"\"\"下面是一段AI与人类的对话，AI会针对人类问题，提供尽可能详细的回答，如果AI不知道答案，会直接回复'人类老爷，我真的不知道'.\n",
    "之前的对话摘要:\n",
    "{history}\n",
    "当前对话:\n",
    "{history_now}\n",
    "Human:{input}\n",
    "AI：\"\"\"\n",
    "\n",
    "prompt = PromptTemplate(\n",
    "    template=TEMPLATE,\n",
    "    input_variables=[\"history\", \"history_now\", \"input\"],\n",
    ")\n",
    "\n",
    "chain = ConversationChain(\n",
    "    llm=llm,\n",
    "    memory=memory,\n",
    "    prompt=prompt,\n",
    "    verbose=True,\n",
    ")\n"
   ]
  },
  {
   "cell_type": "code",
   "execution_count": 31,
   "metadata": {},
   "outputs": [
    {
     "name": "stderr",
     "output_type": "stream",
     "text": [
      "c:\\Programs\\Python\\Python312\\Lib\\site-packages\\langchain_core\\_api\\deprecation.py:119: LangChainDeprecationWarning: The method `Chain.run` was deprecated in langchain 0.1.0 and will be removed in 0.2.0. Use invoke instead.\n",
      "  warn_deprecated(\n"
     ]
    },
    {
     "name": "stdout",
     "output_type": "stream",
     "text": [
      "\n",
      "\n",
      "\u001b[1m> Entering new ConversationChain chain...\u001b[0m\n",
      "Prompt after formatting:\n",
      "\u001b[32;1m\u001b[1;3m下面是一段AI与人类的对话，AI会针对人类问题，提供尽可能详细的回答，如果AI不知道答案，会直接回复'人类老爷，我真的不知道'.\n",
      "之前的对话摘要:\n",
      "\n",
      "当前对话:\n",
      "\n",
      "Human:那ETH呢？\n",
      "AI：\u001b[0m\n",
      "\n",
      "\u001b[1m> Finished chain.\u001b[0m\n"
     ]
    },
    {
     "data": {
      "text/plain": [
       "'人类老爷，我真的不知道。'"
      ]
     },
     "execution_count": 31,
     "metadata": {},
     "output_type": "execute_result"
    }
   ],
   "source": [
    "chain.run(\"那ETH呢？\")"
   ]
  }
 ],
 "metadata": {
  "kernelspec": {
   "display_name": "Python 3",
   "language": "python",
   "name": "python3"
  },
  "language_info": {
   "codemirror_mode": {
    "name": "ipython",
    "version": 3
   },
   "file_extension": ".py",
   "mimetype": "text/x-python",
   "name": "python",
   "nbconvert_exporter": "python",
   "pygments_lexer": "ipython3",
   "version": "3.12.3"
  }
 },
 "nbformat": 4,
 "nbformat_minor": 2
}
