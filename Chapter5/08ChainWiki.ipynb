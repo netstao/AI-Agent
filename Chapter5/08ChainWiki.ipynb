{
 "cells": [
  {
   "cell_type": "markdown",
   "metadata": {},
   "source": [
    "# LangChainHub 各种链的集合"
   ]
  },
  {
   "cell_type": "markdown",
   "metadata": {},
   "source": [
    "### 使用文件加载专用chains"
   ]
  },
  {
   "cell_type": "code",
   "execution_count": 8,
   "metadata": {},
   "outputs": [
    {
     "name": "stdout",
     "output_type": "stream",
     "text": [
      "input_variables=['answer_a', 'answer_b', 'question', 'ref_answer_1'] metadata={'lc_hub_owner': 'wfh', 'lc_hub_repo': 'pair-math-v1', 'lc_hub_commit_hash': 'b5c7443ca521be24424381278b2ca5c76dfff5748057c9bdee82724c6531ebbf'} messages=[SystemMessagePromptTemplate(prompt=PromptTemplate(input_variables=[], template='Please act as an impartial judge and evaluate the quality of the responses provided by two AI assistants to the user question displayed below. Your evaluation should consider correctness and helpfulness. You will be given a reference answer, assistant A\\'s answer, and assistant B\\'s answer. Your job is to evaluate which assistant\\'s answer is better. Begin your evaluation by comparing both assistants\\' answers with the reference answer. Identify and correct any mistakes. Avoid any position biases and ensure that the order in which the responses were presented does not influence your decision. Do not allow the length of the responses to influence your evaluation. Do not favor certain names of the assistants. Be as objective as possible. After providing your explanation, output your final verdict by strictly following this format: \"[[A]]\" if assistant A is better, \"[[B]]\" if assistant B is better, and \"[[C]]\" for a tie.')), HumanMessagePromptTemplate(prompt=PromptTemplate(input_variables=['answer_a', 'answer_b', 'question', 'ref_answer_1'], template=\"[User Question]\\n{question}\\n\\n[The Start of Reference Answer]\\n{ref_answer_1}\\n[The End of Reference Answer]\\n\\n[The Start of Assistant A's Answer]\\n{answer_a}\\n[The End of Assistant A's Answer]\\n\\n[The Start of Assistant B's Answer]\\n{answer_b}\\n[The End of Assistant B's Answer]\"))]\n"
     ]
    }
   ],
   "source": [
    "from langchain.chains import load_chain \n",
    "\n",
    "from langchain import hub\n",
    "prompt = hub.pull(\"wfh/pair-math-v1\")\n",
    "\n",
    "\n",
    "print(prompt)"
   ]
  },
  {
   "cell_type": "markdown",
   "metadata": {},
   "source": [
    "# 自定义链\n",
    "- 当通用链不满足的时候，可以自行构建实现特定的母的"
   ]
  },
  {
   "cell_type": "code",
   "execution_count": 3,
   "metadata": {},
   "outputs": [],
   "source": [
    "from typing import List, Dict, Any,Optional\n",
    "from langchain.callbacks.manager import (\n",
    "    CallbackManagerForChainRun\n",
    ")\n",
    "\n",
    "from langchain.chains.base import Chain\n",
    "from langchain.prompts.base import BasePromptTemplate\n",
    "from langchain.base_language import BaseLanguageModel"
   ]
  },
  {
   "cell_type": "code",
   "execution_count": 4,
   "metadata": {},
   "outputs": [],
   "source": [
    "class wiki_article_chain(Chain):\n",
    "    \"\"\"开发一个wiki文章生成器\"\"\"\n",
    "    prompt: BasePromptTemplate\n",
    "    llm: BaseLanguageModel\n",
    "    out_key:str=\"text\"\n",
    "\n",
    "    @property\n",
    "    def input_keys(self) ->List[str]:\n",
    "        \"\"\"将返回Prompt所需的所有键\"\"\"\n",
    "        return self.prompt.input_variables\n",
    "    \n",
    "    @property\n",
    "    def output_keys(self) ->List[str]:\n",
    "        \"将始终返回text键\"\n",
    "        return [self.out_key]\n",
    "    \n",
    "    def _call(\n",
    "        self,\n",
    "        inputs: Dict[str, Any],\n",
    "        run_manager:Optional[CallbackManagerForChainRun]=None,\n",
    "    )-> Dict[str,Any]:\n",
    "        \"\"\"运行链\"\"\"\n",
    "        prompt_value = self.prompt.format_prompt(**inputs)\n",
    "        response = self.llm.generate_prompt(\n",
    "            [prompt_value],callbacks=run_manager.get_child() if run_manager else None\n",
    "        )\n",
    "        if run_manager:\n",
    "            run_manager.on_text(\"wike article is written\")\n",
    "        return  {self.out_key:response.generations[0][0].text}\n",
    "    \n",
    "    @property\n",
    "    def _chain_type(self)-> str:\n",
    "        \"\"\"链类型\"\"\"\n",
    "        return \"wiki_article_chain\""
   ]
  },
  {
   "cell_type": "code",
   "execution_count": 5,
   "metadata": {},
   "outputs": [
    {
     "name": "stderr",
     "output_type": "stream",
     "text": [
      "c:\\Programs\\Python\\Python312\\Lib\\site-packages\\langchain_core\\_api\\deprecation.py:119: LangChainDeprecationWarning: The class `ChatOpenAI` was deprecated in LangChain 0.0.10 and will be removed in 0.2.0. An updated version of the class exists in the langchain-openai package and should be used instead. To use it run `pip install -U langchain-openai` and import as `from langchain_openai import ChatOpenAI`.\n",
      "  warn_deprecated(\n"
     ]
    }
   ],
   "source": [
    "from langchain.chat_models import  ChatOpenAI\n",
    "from langchain.prompts import  PromptTemplate\n",
    "\n",
    "chain = wiki_article_chain(\n",
    "    prompt=PromptTemplate(\n",
    "        template=\"写一篇关于{topic}的维基百科形式的文章\",\n",
    "        input_variables=[\"topic\"]\n",
    "    ),\n",
    "    llm=ChatOpenAI(\n",
    "        temperature=0\n",
    "    ),\n",
    ")"
   ]
  },
  {
   "cell_type": "code",
   "execution_count": 6,
   "metadata": {},
   "outputs": [
    {
     "name": "stderr",
     "output_type": "stream",
     "text": [
      "c:\\Programs\\Python\\Python312\\Lib\\site-packages\\langchain_core\\_api\\deprecation.py:119: LangChainDeprecationWarning: The method `Chain.run` was deprecated in langchain 0.1.0 and will be removed in 0.2.0. Use invoke instead.\n",
      "  warn_deprecated(\n"
     ]
    },
    {
     "name": "stdout",
     "output_type": "stream",
     "text": [
      "过好这一生是每个人都追求的目标，它涉及到个人的幸福、成就和满足感。在人生的旅程中，每个人都希望能够过上有意义、充实和快乐的生活。过好这一生不仅仅是追求物质上的成功，更重要的是追求内心的平静和满足。\n",
      "\n",
      "### 1. 定义\n",
      "\n",
      "过好这一生是指在有限的时间内，充分发挥个人潜力，实现自身的目标和愿望，享受生活带来的快乐和满足。这种生活状态不同于简单的生存，而是追求更高层次的幸福和成就。\n",
      "\n",
      "### 2. 实现方式\n",
      "\n",
      "#### 2.1 建立积极的心态\n",
      "\n",
      "过好这一生的第一步是建立积极的心态。积极的心态可以帮助人们更好地应对生活中的挑战和困难，保持乐观和自信。通过积极的心态，人们可以更好地面对生活中的变化和挑战，从而更好地实现自己的目标和愿望。\n",
      "\n",
      "#### 2.2 设定明确的目标\n",
      "\n",
      "设定明确的目标是过好这一生的关键。只有明确知道自己想要什么，才能有针对性地努力去实现。设定目标可以帮助人们更好地规划自己的生活，明确自己的方向和目标，从而更好地实现自己的梦想。\n",
      "\n",
      "#### 2.3 培养健康的生活方式\n",
      "\n",
      "健康是过好这一生的基础。只有身体健康，才能有更多的精力和动力去追求自己的目标。培养健康的生活方式，包括良好的饮食习惯、充足的睡眠和适量的运动，可以帮助人们保持身体健康，更好地享受生活带来的快乐。\n",
      "\n",
      "### 3. 结论\n",
      "\n",
      "过好这一生是每个人都追求的目标，它涉及到个人的幸福、成就和满足感。通过建立积极的心态、设定明确的目标和培养健康的生活方式，人们可以更好地实现自己的梦想，过上有意义、充实和快乐的生活。希望每个人都能够过好这一生，实现自己的目标和愿望，享受生活带来的快乐和满足。\n"
     ]
    }
   ],
   "source": [
    "result = chain.run({\"topic\":\"过好这一生\"})\n",
    "print(result)"
   ]
  }
 ],
 "metadata": {
  "kernelspec": {
   "display_name": "Python 3",
   "language": "python",
   "name": "python3"
  },
  "language_info": {
   "codemirror_mode": {
    "name": "ipython",
    "version": 3
   },
   "file_extension": ".py",
   "mimetype": "text/x-python",
   "name": "python",
   "nbconvert_exporter": "python",
   "pygments_lexer": "ipython3",
   "version": "3.12.3"
  }
 },
 "nbformat": 4,
 "nbformat_minor": 2
}
