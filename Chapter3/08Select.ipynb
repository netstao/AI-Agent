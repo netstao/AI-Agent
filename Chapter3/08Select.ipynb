{
 "cells": [
  {
   "cell_type": "markdown",
   "metadata": {},
   "source": [
    "# 示例选择器\n",
    "- 根据长度要求智能选择示例\n",
    "- 根据输入相似度选择示例(最大)\n",
    "- 根据输入相似度选择示例（最大余炫相似度）\n",
    "\n",
    "# 根据长度要求智能选择示例"
   ]
  },
  {
   "cell_type": "code",
   "execution_count": null,
   "metadata": {},
   "outputs": [],
   "source": [
    "# 根据输入的提示词长度综合计算最终长度，智能截取或者添加提示词的示例"
   ]
  },
  {
   "cell_type": "code",
   "execution_count": null,
   "metadata": {},
   "outputs": [],
   "source": [
    "from langchain.prompts import PromptTemplate\n",
    "import os\n",
    "\n",
    "from dotenv import load_dotenv\n",
    "\n",
    "load_dotenv()\n",
    "\n",
    "prompt = PromptTemplate.from_template(\"你是一个{name}，帮我起一个具有{county}特色的男孩子名字\")\n",
    "prompt.format(name=\"算命大师\",county=\"中国\")\n"
   ]
  },
  {
   "cell_type": "code",
   "execution_count": 28,
   "metadata": {},
   "outputs": [
    {
     "name": "stdout",
     "output_type": "stream",
     "text": [
      "给出每个输入词的反义词\n",
      "\n",
      "原词： happy\n",
      "反义:sad\n",
      "\n",
      "原词： tall\n",
      "反义:short\n",
      "\n",
      "原词： sunny\n",
      "反义:gloomy\n",
      "\n",
      "原词： windy\n",
      "反义:calm\n",
      "\n",
      "原词： 高兴\n",
      "反义:悲伤\n",
      "\n",
      "原词：big\n",
      "反义：\n"
     ]
    }
   ],
   "source": [
    "from langchain.prompts import PromptTemplate\n",
    "from langchain.prompts import FewShotPromptTemplate\n",
    "from langchain.prompts.example_selector import LengthBasedExampleSelector\n",
    "\n",
    "#假设已经有这么多的提示词示例组\n",
    "examples = [\n",
    "    {\"input\": \"happy\", \"output\": \"sad\"},\n",
    "    {\"input\": \"tall\", \"output\": \"short\"},\n",
    "    {\"input\": \"sunny\", \"output\": \"gloomy\"},\n",
    "    {\"input\": \"windy\", \"output\": \"calm\"},\n",
    "    {\"input\": \"高兴\", \"output\": \"悲伤\"},\n",
    "]\n",
    "\n",
    "#构造提示词模板\n",
    "example_prompt = PromptTemplate(\n",
    "    input_variables=[\"input\", \"output\"],\n",
    "    template=\"原词： {input}\\n反义:{output}\"\n",
    ")\n",
    "\n",
    "#调用长度示例选择器\n",
    "example_selector = LengthBasedExampleSelector(\n",
    "    #传入提示词示例组\n",
    "    examples=examples,\n",
    "    #提示词模板\n",
    "    example_prompt=example_prompt,\n",
    "    #设置格式化后的提示词最大长度\n",
    "    max_length=25,\n",
    "    #内置的get_text_length,如果默认分词计算方式不满足，可扩展\n",
    "    #get_text_length=callable[[std],int] = lambda: x:len(re.split(\"\\n| \",x))\n",
    "\n",
    ")\n",
    "\n",
    "#使用小样本提示词模板来实现动态示例的调用\n",
    "dynamic_prompt = FewShotPromptTemplate(\n",
    "    example_selector=example_selector,\n",
    "    example_prompt=example_prompt,\n",
    "    prefix=\"给出每个输入词的反义词\",\n",
    "    suffix=\"原词：{adjective}\\n反义：\",\n",
    "    input_variables=[\"adjective\"],\n",
    ")\n",
    "\n",
    "print(dynamic_prompt.format(adjective=\"big\"))"
   ]
  },
  {
   "cell_type": "code",
   "execution_count": 30,
   "metadata": {},
   "outputs": [
    {
     "name": "stdout",
     "output_type": "stream",
     "text": [
      "给出每个输入词的反义词\n",
      "\n",
      "原词： happy\n",
      "反义:sad\n",
      "\n",
      "原词：big and huge adn massive and large and gilarge and gilarge and gilarge and gilarge and gilarge and gilarge and \n",
      "反义：\n"
     ]
    }
   ],
   "source": [
    "#如果输入长度很长，则最终输出会根据长度要求减少\n",
    "\n",
    "long_string = \"big and huge adn massive and large and gilarge and gilarge and gilarge and gilarge and gilarge and gilarge and \"\n",
    "print(dynamic_prompt.format(adjective=long_string))"
   ]
  }
 ],
 "metadata": {
  "kernelspec": {
   "display_name": "Python 3",
   "language": "python",
   "name": "python3"
  },
  "language_info": {
   "codemirror_mode": {
    "name": "ipython",
    "version": 3
   },
   "file_extension": ".py",
   "mimetype": "text/x-python",
   "name": "python",
   "nbconvert_exporter": "python",
   "pygments_lexer": "ipython3",
   "version": "3.12.3"
  }
 },
 "nbformat": 4,
 "nbformat_minor": 2
}
