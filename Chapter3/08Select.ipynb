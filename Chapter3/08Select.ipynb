{
 "cells": [
  {
   "cell_type": "markdown",
   "metadata": {},
   "source": [
    "# 示例选择器\n",
    "- 根据长度要求智能选择示例\n",
    "- 根据输入相似度选择示例(最大)\n",
    "- 根据"
   ]
  }
 ],
 "metadata": {
  "language_info": {
   "name": "python"
  }
 },
 "nbformat": 4,
 "nbformat_minor": 2
}
