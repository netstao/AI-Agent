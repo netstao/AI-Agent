{
 "cells": [
  {
   "cell_type": "code",
   "execution_count": 6,
   "metadata": {},
   "outputs": [
    {
     "name": "stdout",
     "output_type": "stream",
     "text": [
      "人生如梦，如流水\n",
      "起伏不定，如风中的尘土\n",
      "时而欢笑，时而泪流\n",
      "人生如歌，如花开的瞬间\n",
      "\n",
      "青春年少，懵懂无知\n",
      "追逐梦想，奔向远方\n",
      "心中燃烧，热血沸腾\n",
      "不畏艰辛，勇往直前\n",
      "\n",
      "中年之际，岁月如梭\n",
      "沧海桑田，岁月无情\n",
      "曾经的激情，已成回忆\n",
      "岁月的痕迹，刻在脸庞\n",
      "\n",
      "晚年之时，岁月静好\n",
      "回首往事，心中无悔\n",
      "经历风雨，历经沧桑\n",
      "人生如诗，如此美妙\n",
      "\n",
      "人生如梦，如流水\n",
      "珍惜当下，把握每一刻\n",
      "不畏风雨，追逐梦想\n",
      "人生如诗，如此绚烂"
     ]
    }
   ],
   "source": [
    "# 流式\n",
    "\n",
    "from langchain_openai import ChatOpenAI\n",
    "from langchain.schema.messages import HumanMessage, AIMessage\n",
    "\n",
    "import os\n",
    "from dotenv import load_dotenv\n",
    "load_dotenv()\n",
    "openai_api_key = os.getenv(\"OPENAI_API_KEY\")\n",
    "openai_api_base = os.getenv(\"OPENAI_API_BASE\")\n",
    "\n",
    "chat = ChatOpenAI (\n",
    "    model=\"gpt-3.5-turbo-16k\",\n",
    "    temperature=0,\n",
    "    max_tokens=1000,\n",
    "    openai_api_base=openai_api_base,\n",
    "    openai_api_key=openai_api_key,  #\n",
    ")\n",
    "# msg = llm.predict(pm) # LangChainDeprecationWarning: The method `BaseChatModel.predict` was deprecated in langchain-core 0.1.7 and will be removed in 0.2.0. Use invoke instead\n",
    "\n",
    "messages = [\n",
    "    AIMessage(role=\"system\", content=\"你好，我是tomie!\"),\n",
    "    HumanMessage(role=\"user\", content=\"你好，tomie,我是netstan\"),\n",
    "    AIMessage(role=\"system\", content=\"认识你很高兴!\"),\n",
    "    HumanMessage(role=\"user\", content=\"你知道我叫什么吗？\"),\n",
    "]\n",
    "for chunk in  chat.stream('写一首关于人生的诗歌?'):\n",
    "    print(chunk.content,end=\"\",flush=False)\n"
   ]
  },
  {
   "cell_type": "markdown",
   "metadata": {},
   "source": []
  },
  {
   "cell_type": "code",
   "execution_count": null,
   "metadata": {},
   "outputs": [],
   "source": [
    "#"
   ]
  }
 ],
 "metadata": {
  "kernelspec": {
   "display_name": "Python 3",
   "language": "python",
   "name": "python3"
  },
  "language_info": {
   "codemirror_mode": {
    "name": "ipython",
    "version": 3
   },
   "file_extension": ".py",
   "mimetype": "text/x-python",
   "name": "python",
   "nbconvert_exporter": "python",
   "pygments_lexer": "ipython3",
   "version": "3.12.3"
  }
 },
 "nbformat": 4,
 "nbformat_minor": 2
}
