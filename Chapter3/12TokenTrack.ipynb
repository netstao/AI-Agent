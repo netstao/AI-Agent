{
 "cells": [
  {
   "cell_type": "code",
   "execution_count": 6,
   "metadata": {},
   "outputs": [
    {
     "name": "stdout",
     "output_type": "stream",
     "text": [
      "人生如梦，如流水\n",
      "起伏不定，如风中的尘土\n",
      "时而欢笑，时而泪流\n",
      "人生如歌，如花开的瞬间\n",
      "\n",
      "青春年少，懵懂无知\n",
      "追逐梦想，奔向远方\n",
      "心中燃烧，热血沸腾\n",
      "不畏艰辛，勇往直前\n",
      "\n",
      "中年之际，岁月如梭\n",
      "沧海桑田，岁月无情\n",
      "曾经的激情，已成回忆\n",
      "岁月的痕迹，刻在脸庞\n",
      "\n",
      "晚年之时，岁月静好\n",
      "回首往事，心中无悔\n",
      "经历风雨，历经沧桑\n",
      "人生如诗，如此美妙\n",
      "\n",
      "人生如梦，如流水\n",
      "珍惜当下，把握每一刻\n",
      "不畏风雨，追逐梦想\n",
      "人生如诗，如此绚烂"
     ]
    }
   ],
   "source": [
    "# 流式\n",
    "\n",
    "from langchain_openai import ChatOpenAI\n",
    "from langchain.schema.messages import HumanMessage, AIMessage\n",
    "\n",
    "import os\n",
    "from dotenv import load_dotenv\n",
    "load_dotenv()\n",
    "openai_api_key = os.getenv(\"OPENAI_API_KEY\")\n",
    "openai_api_base = os.getenv(\"OPENAI_API_BASE\")\n",
    "\n",
    "chat = ChatOpenAI (\n",
    "    model=\"gpt-3.5-turbo-16k\",\n",
    "    temperature=0,\n",
    "    max_tokens=1000,\n",
    "    openai_api_base=openai_api_base,\n",
    "    openai_api_key=openai_api_key,  #\n",
    ")\n",
    "# msg = llm.predict(pm) # LangChainDeprecationWarning: The method `BaseChatModel.predict` was deprecated in langchain-core 0.1.7 and will be removed in 0.2.0. Use invoke instead\n",
    "\n",
    "messages = [\n",
    "    AIMessage(role=\"system\", content=\"你好，我是tomie!\"),\n",
    "    HumanMessage(role=\"user\", content=\"你好，tomie,我是netstan\"),\n",
    "    AIMessage(role=\"system\", content=\"认识你很高兴!\"),\n",
    "    HumanMessage(role=\"user\", content=\"你知道我叫什么吗？\"),\n",
    "]\n",
    "for chunk in  chat.stream('写一首关于人生的诗歌?'):\n",
    "    print(chunk.content,end=\"\",flush=False)\n"
   ]
  },
  {
   "cell_type": "markdown",
   "metadata": {},
   "source": []
  },
  {
   "cell_type": "code",
   "execution_count": 1,
   "metadata": {},
   "outputs": [
    {
     "name": "stderr",
     "output_type": "stream",
     "text": [
      "c:\\Programs\\Python\\Python312\\Lib\\site-packages\\langchain_core\\_api\\deprecation.py:119: LangChainDeprecationWarning: The class `ChatOpenAI` was deprecated in LangChain 0.0.10 and will be removed in 0.2.0. An updated version of the class exists in the langchain-openai package and should be used instead. To use it run `pip install -U langchain-openai` and import as `from langchain_openai import ChatOpenAI`.\n",
      "  warn_deprecated(\n"
     ]
    },
    {
     "name": "stdout",
     "output_type": "stream",
     "text": [
      "人生如梦，如流水\n",
      "起伏不定，如风中的尘土\n",
      "时而欢笑，时而泪流\n",
      "人生如歌，如花开的瞬间\n",
      "\n",
      "青春年少，懵懂无知\n",
      "追逐梦想，奔向远方\n",
      "心中燃烧，热血沸腾\n",
      "不畏艰辛，勇往直前\n",
      "\n",
      "中年之际，岁月如梭\n",
      "曾经的激情，已逝去多少\n",
      "家庭事业，纷纷扰扰\n",
      "忙碌奔波，不知疲倦\n",
      "\n",
      "暮年之时，岁月静好\n",
      "回首往事，感慨万千\n",
      "曾经的梦想，是否实现\n",
      "人生的意义，何处寻觅\n",
      "\n",
      "人生如戏，我们是演员\n",
      "扮演着不同的角色\n",
      "有时是英雄，有时是小丑\n",
      "演绎着生活的喜怒哀乐\n",
      "\n",
      "人生如诗，我们是诗人\n",
      "用文字书写着心情\n",
      "有时是激昂，有时是沉默\n",
      "抒发着内心的情感\n",
      "\n",
      "人生如画，我们是画家\n",
      "用色彩描绘着人生\n",
      "有时是明亮，有时是暗淡\n",
      "展现着世界的美丽与哀愁\n",
      "\n",
      "人生如梦，如流水\n",
      "珍惜每一刻，感受每一天\n",
      "无论风雨还是晴空\n",
      "人生的旅途，值得珍藏"
     ]
    }
   ],
   "source": [
    "\n",
    "#chatmodels 调用方法\n",
    "#使用 clade模型\n",
    "from langchain.chat_models import ChatOpenAI\n",
    "from langchain.schema.messages import HumanMessage, AIMessage\n",
    "\n",
    "import os\n",
    "from dotenv import load_dotenv\n",
    "load_dotenv()\n",
    "openai_api_key = os.getenv(\"OPENAI_API_KEY\")\n",
    "openai_api_base = os.getenv(\"OPENAI_API_BASE\")\n",
    "\n",
    "chat = ChatOpenAI (\n",
    "    model=\"gpt-3.5-turbo-16k\",\n",
    "    temperature=0,\n",
    "    max_tokens=1000,\n",
    "    openai_api_base=openai_api_base,\n",
    "    openai_api_key=openai_api_key,  #\n",
    ")\n",
    "# msg = llm.predict(pm) # LangChainDeprecationWarning: The method `BaseChatModel.predict` was deprecated in langchain-core 0.1.7 and will be removed in 0.2.0. Use invoke instead\n",
    "\n",
    "messages = [\n",
    "    AIMessage(role=\"system\", content=\"你好，我是tomie!\"),\n",
    "    HumanMessage(role=\"user\", content=\"你好，tomie,我是netstan\"),\n",
    "    AIMessage(role=\"system\", content=\"认识你很高兴!\"),\n",
    "    HumanMessage(role=\"user\", content=\"你知道我叫什么吗？\"),\n",
    "]\n",
    "for chunk in  chat.stream('写一首关于人生的诗歌?'):\n",
    "    print(chunk.content,end=\"\",flush=False)"
   ]
  },
  {
   "cell_type": "markdown",
   "metadata": {},
   "source": [
    "# 追踪Token的使用"
   ]
  },
  {
   "cell_type": "code",
   "execution_count": 5,
   "metadata": {},
   "outputs": [
    {
     "name": "stdout",
     "output_type": "stream",
     "text": [
      "好的，这是一个笑话：\n",
      "\n",
      "有一天，一只蜜蜂飞到了一个酒吧里。蜜蜂飞到了吧台前，对酒保说：“你们这里有什么好酒吗？”酒保回答：“当然有，我们这里有蜜酒。”蜜蜂听了非常高兴，说：“太好了，那我来一杯！”\n",
      "Tokens Used: 134\n",
      "\tPrompt Tokens: 12\n",
      "\tCompletion Tokens: 122\n",
      "Successful Requests: 1\n",
      "Total Cost (USD): $0.0005239999999999999\n"
     ]
    }
   ],
   "source": [
    "# LLM的token追踪\n",
    "from langchain.llms import ChatOpenAI\n",
    "from langchain.callbacks import get_openai_callback\n",
    "import os\n",
    "from dotenv import load_dotenv\n",
    "load_dotenv()\n",
    "openai_api_key = os.getenv(\"OPENAI_API_KEY\")\n",
    "openai_api_base = os.getenv(\"OPENAI_API_BASE\")\n",
    "\n",
    "chat = ChatOpenAI (\n",
    "    model=\"gpt-3.5-turbo-16k\",\n",
    "    temperature=0,\n",
    "    max_tokens=1000,\n",
    "    openai_api_base=openai_api_base,\n",
    "    openai_api_key=openai_api_key,  #\n",
    ")\n",
    "# msg = llm.predict(pm) # LangChainDeprecationWarning: The method `BaseChatModel.predict` was deprecated in langchain-core 0.1.7 and will be removed in 0.2.0. Use invoke instead\n",
    "\n",
    "messages = [\n",
    "    AIMessage(role=\"system\", content=\"你好，我是tomie!\"),\n",
    "    HumanMessage(role=\"user\", content=\"你好，tomie,我是netstan\"),\n",
    "    AIMessage(role=\"system\", content=\"认识你很高兴!\"),\n",
    "    HumanMessage(role=\"user\", content=\"你知道我叫什么吗？\"),\n",
    "]\n",
    "with get_openai_callback() as cb:\n",
    "    result = chat.invoke(\"讲一个笑话\")\n",
    "    print(result.content)\n",
    "    print(cb)"
   ]
  }
 ],
 "metadata": {
  "kernelspec": {
   "display_name": "Python 3",
   "language": "python",
   "name": "python3"
  },
  "language_info": {
   "codemirror_mode": {
    "name": "ipython",
    "version": 3
   },
   "file_extension": ".py",
   "mimetype": "text/x-python",
   "name": "python",
   "nbconvert_exporter": "python",
   "pygments_lexer": "ipython3",
   "version": "3.12.3"
  }
 },
 "nbformat": 4,
 "nbformat_minor": 2
}
