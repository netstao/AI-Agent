{
 "cells": [
  {
   "cell_type": "markdown",
   "metadata": {},
   "source": [
    "# OpenAI与ChatOpenAI"
   ]
  },
  {
   "cell_type": "code",
   "execution_count": null,
   "metadata": {},
   "outputs": [],
   "source": [
    "# llm 的调用， 这里以openai为列\n",
    "from langchain_openai import OpenAI\n",
    "import os\n",
    "from dotenv import load_dotenv\n",
    "load_dotenv()\n",
    "\n",
    "\n",
    "openai_api_key = os.getenv(\"OPENAI_API_KEY\")\n",
    "openai_api_base = os.getenv(\"OPENAI_API_BASE\")\n",
    "\n",
    "openai_api_base+='/v1'\n",
    "print(openai_api_base)\n",
    "#设置LLM\n",
    "# llm = OpenAI(\n",
    "#     model = \"gpt-3.5-turbo\",\n",
    "#     temperature=0,\n",
    "#     openai_api_base=openai_api_key,\n",
    "#     openai_api_key=openai_api_key,\n",
    "# )\n",
    "\n",
    "# llm.predict('你好')\n",
    "\n",
    "llm = OpenAI(\n",
    "    model=\"gpt-3.5-turbo-instruct\",\n",
    "    temperature=0,\n",
    "    openai_api_base=openai_api_base,\n",
    "    openai_api_key=openai_api_key,  # this is also the default, it can be omitted\n",
    ")\n",
    "llm.predict(\"介绍下你自己\")\n"
   ]
  },
  {
   "cell_type": "code",
   "execution_count": 48,
   "metadata": {},
   "outputs": [
    {
     "name": "stdout",
     "output_type": "stream",
     "text": [
      "是的，你刚刚告诉我你叫netstan。\n"
     ]
    }
   ],
   "source": [
    "from langchain_openai import ChatOpenAI\n",
    "from langchain.schema.messages import HumanMessage, AIMessage\n",
    "\n",
    "chat = ChatOpenAI (\n",
    "    model=\"gpt-3.5-turbo-16k\",\n",
    "    temperature=0,\n",
    "    max_tokens=1000,\n",
    "    openai_api_base=openai_api_base,\n",
    "    openai_api_key=openai_api_key,  #\n",
    ")\n",
    "# msg = llm.predict(pm) # LangChainDeprecationWarning: The method `BaseChatModel.predict` was deprecated in langchain-core 0.1.7 and will be removed in 0.2.0. Use invoke instead\n",
    "\n",
    "messages = [\n",
    "    AIMessage(role=\"system\", content=\"你好，我是tomie!\"),\n",
    "    HumanMessage(role=\"user\", content=\"你好，tomie,我是netstan\"),\n",
    "    AIMessage(role=\"system\", content=\"认识你很高兴!\"),\n",
    "    HumanMessage(role=\"user\", content=\"你知道我叫什么吗？\"),\n",
    "]\n",
    "response = chat.invoke(messages)\n",
    "\n",
    "# msg = chat.invoke('你好,介绍下你自己吧')  # 0.1.7 以后\n",
    "\n",
    "print(response.content)  #0.1.7以后用法"
   ]
  }
 ],
 "metadata": {
  "kernelspec": {
   "display_name": "Python 3",
   "language": "python",
   "name": "python3"
  },
  "language_info": {
   "codemirror_mode": {
    "name": "ipython",
    "version": 3
   },
   "file_extension": ".py",
   "mimetype": "text/x-python",
   "name": "python",
   "nbconvert_exporter": "python",
   "pygments_lexer": "ipython3",
   "version": "3.12.3"
  }
 },
 "nbformat": 4,
 "nbformat_minor": 2
}
