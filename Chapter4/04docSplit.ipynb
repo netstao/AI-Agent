{
 "cells": [
  {
   "cell_type": "markdown",
   "metadata": {},
   "source": [
    "# 文档转换器"
   ]
  },
  {
   "cell_type": "markdown",
   "metadata": {
    "vscode": {
     "languageId": "plaintext"
    }
   },
   "source": [
    "# 文档切割\n",
    "### 原理\n",
    "1. 将文档分成小的、有意义的块（句子）。\n",
    "2. 将小的块组合成一个更大的块，直到达到一定的大小。\n",
    "3. 一旦达到一定的大小，接着开始创建与下一个块重叠的部分\n",
    "\n",
    "### 示例\n",
    "- 第一个文档分割\n",
    "- 按字符切割\n",
    "- 代码文档切割\n",
    "- 按token来切割"
   ]
  },
  {
   "cell_type": "code",
   "execution_count": null,
   "metadata": {},
   "outputs": [],
   "source": [
    "from langchain.text_splitter import RecursiveCharacterTextSplitter\n",
    "\n",
    "#加载要切割的文档\n",
    "with open(\"test.txt\", \"r\") as f:\n",
    "    zhhx = f.read()\n",
    "\n",
    "#使用递归字符切分器\n",
    "text_splitter = RecursiveCharacterTextSplitter(\n",
    "    chunk_size=100, #切割的块大小 一般通过长度函数计算\n",
    "    chunk_overlap=50, #切分的文本块重叠大小，\n",
    "    length_function=len, #长度函数，也可以传递tokenize函数\n",
    "    add_start_index=True, #是否添加开始索引\n",
    ")\n",
    "text = text_splitter.create_documents(zhhx)\n",
    "text"
   ]
  },
  {
   "cell_type": "code",
   "execution_count": 11,
   "metadata": {},
   "outputs": [
    {
     "name": "stderr",
     "output_type": "stream",
     "text": [
      "Created a chunk of size 125, which is longer than the specified 50\n",
      "Created a chunk of size 72, which is longer than the specified 50\n",
      "Created a chunk of size 72, which is longer than the specified 50\n",
      "Created a chunk of size 63, which is longer than the specified 50\n",
      "Created a chunk of size 52, which is longer than the specified 50\n",
      "Created a chunk of size 96, which is longer than the specified 50\n",
      "Created a chunk of size 51, which is longer than the specified 50\n",
      "Created a chunk of size 66, which is longer than the specified 50\n",
      "Created a chunk of size 105, which is longer than the specified 50\n",
      "Created a chunk of size 84, which is longer than the specified 50\n",
      "Created a chunk of size 78, which is longer than the specified 50\n",
      "Created a chunk of size 72, which is longer than the specified 50\n",
      "Created a chunk of size 66, which is longer than the specified 50\n",
      "Created a chunk of size 92, which is longer than the specified 50\n",
      "Created a chunk of size 58, which is longer than the specified 50\n",
      "Created a chunk of size 67, which is longer than the specified 50\n",
      "Created a chunk of size 73, which is longer than the specified 50\n",
      "Created a chunk of size 52, which is longer than the specified 50\n",
      "Created a chunk of size 61, which is longer than the specified 50\n",
      "Created a chunk of size 77, which is longer than the specified 50\n",
      "Created a chunk of size 82, which is longer than the specified 50\n",
      "Created a chunk of size 61, which is longer than the specified 50\n",
      "Created a chunk of size 52, which is longer than the specified 50\n",
      "Created a chunk of size 60, which is longer than the specified 50\n",
      "Created a chunk of size 51, which is longer than the specified 50\n"
     ]
    },
    {
     "data": {
      "text/plain": [
       "[Document(page_content='蒂法介绍\\n蒂法·洛克哈特(日语:ティファ・ロックハート，Tifa Rokkuhāto，英语:Tifa Lockhart)为电子游戏《最终幻想VII》及《最终幻想VII补完计划》相关作品中的虚构⻆ 色，由\\U0010fc00村哲也创作和设计，此后也在多个游戏中客串登场', metadata={'start_index': 1}),\n",
       " Document(page_content='2014年东京电玩展上，星名美津纪cosplay《最终幻想VII 降临之子》中的蒂法·洛克哈特 蒂法是克劳德的⻘梅竹⻢，两人同为尼布鲁海姆出身', metadata={'start_index': 127}),\n",
       " Document(page_content='在米德加经营作为反抗组织“雪崩”根 据地的酒馆“第七天堂”，并且是小有名气的招牌店员', metadata={'start_index': 199}),\n",
       " Document(page_content='擅⻓格斗，以拳套为武器。本传7年前 克劳德离开故乡从军时，曾许下约定“如果有危机时一定会保护她”', metadata={'start_index': 242}),\n",
       " Document(page_content='与爱丽丝相识之后，两 人成为好友', metadata={'start_index': 291}),\n",
       " Document(page_content='第一个察觉克劳德记忆混乱的人，后来协助精神崩溃的克劳德\\U0010fc01新找回真正的自 己', metadata={'start_index': 308}),\n",
       " Document(page_content='本传的大战结束后，依大家的期待在战后新生的米德加再次开设第七天堂(原第七天堂因 第柒区圆盘崩塌遭压毁)，同时也照顾一群受到星痕症候群折磨的孩子们', metadata={'start_index': 346}),\n",
       " Document(page_content='蒂法被《纽约时报》称为“网络一代”的海报女郎，与劳拉·克罗夫特相比，她是电子游戏中坚 强、\\U0010fc02立和有吸引力的女性⻆色的典型代表', metadata={'start_index': 420}),\n",
       " Document(page_content='媒体普遍称赞其实力和外表，并称她为游戏世界 中最好的女性⻆色之一', metadata={'start_index': 483}),\n",
       " Document(page_content='在《最终幻想VII》本传中，蒂法年龄20岁、身高167cm、生日5月3日、血型B型、出生地尼 布尔海姆', metadata={'start_index': 517}),\n",
       " Document(page_content='登场\\n《最终幻想VII》 蒂法在《最终幻想VII》原版中首次亮相，是克劳德的⻘梅竹⻢、第七天堂酒吧的看板娘、极 端环境组织“雪崩”成员，该组织反抗巨型企业“神罗”因其大\\U0010fc03抽取魔晄用作动力能源', metadata={'start_index': 570}),\n",
       " Document(page_content='在注 意到克劳德的性格改变后，她说服克劳德加入雪崩，以密切关注他，并且跟随他追寻游戏中的 对手萨菲罗斯', metadata={'start_index': 666}),\n",
       " Document(page_content='她无法阻止克劳德被萨菲罗斯操纵，在他的精神崩溃后，她帮助克劳德康复， 并且两人意识到彼此间的相互感觉，最后与伙伴们一同击败了萨菲罗斯', metadata={'start_index': 718}),\n",
       " Document(page_content='[2] 在闪回中可知，儿时的蒂法一直是村中小孩的人气王', metadata={'start_index': 785}),\n",
       " Document(page_content='在母亲过世后，思念母亲的蒂法决定沿 着小路走到他们故乡尼布尔海姆附近的一座山上，认为这样就能⻅到过世的母亲，原本跟着蒂 法的其他小孩都在半路上因害怕而放弃，唯\\U0010fc02克劳德仍坚定的在后面跟随，希望能在危机时保 护蒂法', metadata={'start_index': 813}),\n",
       " Document(page_content='然而，他们俩都从山上跌落受伤，蒂法昏迷了一个星期，她的父亲认为克劳德对此负 有责任[3]，甚为严令禁止克劳德再接近蒂法，但蒂法反而从此更在意克劳德，两人成为要好 的玩伴', metadata={'start_index': 919}),\n",
       " Document(page_content='为了使自己变得更强大，克劳德最终选择离开尼布尔海姆，加入神罗，想要成为神罗 的精英战士“神罗战士”(SOLDIER)，但后来透露他主要是为了吸引蒂法的注意力', metadata={'start_index': 1004}),\n",
       " Document(page_content='离开之 前，蒂法与克劳德约定，当蒂法处于困境之中时，克劳德会回来救她', metadata={'start_index': 1083}),\n",
       " Document(page_content='从克劳德离开之后，蒂 法便开始留意神罗战士的消息，因为神罗战士都成为声名远播的知名人物，如果克劳德成为神 罗战士，他的活跃也会立刻传回尼布尔海姆', metadata={'start_index': 1118}),\n",
       " Document(page_content='数年后，在萨菲罗斯摧毁了尼布尔海姆之后，克 劳德为了救蒂法，被萨菲罗斯刺至\\U0010fc01伤', metadata={'start_index': 1191}),\n",
       " Document(page_content='蒂法被她的武术教练赞干带到安全地带，幸存下来， 最终到达米德加并遇⻅了“雪崩”的领导人巴雷特·华莱士', metadata={'start_index': 1231}),\n",
       " Document(page_content='病愈后，蒂法加入了“雪崩”，为 了给家乡被毁一事报仇', metadata={'start_index': 1282}),\n",
       " Document(page_content='一天，她在火⻋站遇到了从魔晄炉中逃出来、精神一片混乱的克劳 德，蒂法说服了他为巴雷特工作，以保证克劳德的安全以及和克劳德保持紧密关系', metadata={'start_index': 1309}),\n",
       " Document(page_content='这是游戏 开始的地方', metadata={'start_index': 1376}),\n",
       " Document(page_content='在原版《最终幻想VII》中蒂法与爱丽丝关系友好，但会在某些时候争⻛吃醋，例如在神罗总 部营救爱丽丝时，蒂法及巴雷特等一行失手被擒，若克劳德选择关心爱丽丝的话蒂法的对话中 明显带有妒忌', metadata={'start_index': 1388}),\n",
       " Document(page_content='在\\U0010fc01制版中虽然删去这段情节，但保留了这种关系。 在《最终幻想VII》的初稿中，蒂法是背景人物', metadata={'start_index': 1480}),\n",
       " Document(page_content='她在“雪崩”中的作用是在幕后支持，在执 行任务后为所有人加油鼓劲，并且对克劳德有特别的关心', metadata={'start_index': 1527}),\n",
       " Document(page_content='据推测，她的背上有一块大的疤\\n\\n 痕，是由克劳德造成的，并在事件发生时因巨大冲击而部分失忆', metadata={'start_index': 1573}),\n",
       " Document(page_content='[4]原版策划者之一的加藤 正人提出了一个旨在暗示蒂法和克劳德发生性关系的场景，但被北濑佳范用一个变淡的色调所 取代', metadata={'start_index': 1619}),\n",
       " Document(page_content='\\U0010fc00岛一成在接受采访时说，没有一个开发团队人员认为当时的场景会成为一个问题', metadata={'start_index': 1678}),\n",
       " Document(page_content='[5]\\n《最终幻想VII补完计划》\\n2005年，蒂法出现在CG电影《最终幻想VII 降临之子》中，故事发生在原版游戏剧情结束 两年后', metadata={'start_index': 1716}),\n",
       " Document(page_content='在其中，她试图给予克劳德情感上的支持，敦促克劳德放下他对自己施加的不必要的 罪恶感', metadata={'start_index': 1783}),\n",
       " Document(page_content='此外，她还照顾巴雷特的养女玛琳和克劳德在爱丽丝的教堂发⻔口救下的孩子丹泽 尔', metadata={'start_index': 1825}),\n",
       " Document(page_content='在电影中，她与萨菲罗斯的其中一个思念体罗兹战斗，后来她帮助与被召唤的生物巴哈姆 特战斗', metadata={'start_index': 1864}),\n",
       " Document(page_content='编剧\\U0010fc00岛一成将她在视频中的⻆色描述为“非常像任何被男人抛弃的女人”，并表示 尽管他们不希望她显得笨拙，但他们也想描绘出从她受到克劳德的情感伤害出发', metadata={'start_index': 1908}),\n",
       " Document(page_content='[6]在视频 的初稿中，她原本计划在当时的短片中扮演更\\U0010fc01要的⻆色，该短片仅以蒂法，克劳德和几个孩 子为主', metadata={'start_index': 1982}),\n",
       " Document(page_content='蒂法也在前传游戏《最终幻想VII 危机之前》和《最终幻想VII 核心危机》以及OVA《最终 幻想VII 最终命令》中登场', metadata={'start_index': 2036}),\n",
       " Document(page_content='每次登场时，她的出现都与尼布尔海姆的毁灭有关', metadata={'start_index': 2097}),\n",
       " Document(page_content='[2]官方 小说《通向微笑之路》中有专⻔的《蒂法篇》，讲述了原版游戏和降临之子两段之间的故事', metadata={'start_index': 2120}),\n",
       " Document(page_content='从蒂法的⻆度出发，详细讲述了她如何在Edge City创建一个新的第七天堂酒吧，并试图坚 持自己和克劳德的正常家庭观念，尽管克劳德逐渐开始逃避与他人接触', metadata={'start_index': 2168}),\n",
       " Document(page_content='蒂法还短暂出现在游 戏《最终幻想VII 地狱犬的挽歌》中，该游戏的剧情在降临之子故事一年后发生，她在游戏 中帮助主⻆文森特·瓦伦丁捍卫星球，抵抗怪物欧米茄和“兵器”', metadata={'start_index': 2245}),\n",
       " Document(page_content='她后来出现在游戏的结尾 中，讨论着文森特的失踪', metadata={'start_index': 2328}),\n",
       " Document(page_content='[2]\\n其他登场 在《最终幻想VII补完计划》之外，蒂法还出现在格斗游戏《神佑擂台》中，作为可解锁的⻆ 色和可选的Boss', metadata={'start_index': 2352}),\n",
       " Document(page_content='[7]她后来出现在电子棋盘游戏《富豪街》中', metadata={'start_index': 2414}),\n",
       " Document(page_content='在《王国之心II》中，她 穿着自己在降临之子中的服装，寻找克劳德，然后与该系列的怪物“无心”战斗', metadata={'start_index': 2436}),\n",
       " Document(page_content='她原本计划 出现在原版《王国之心》的最终合辑中，但由于时间限制，工作人员选择改用萨菲罗斯', metadata={'start_index': 2485}),\n",
       " Document(page_content='[8] 蒂法也是格斗游戏《最终幻想 纷争012》中的玩家⻆色之一，该游戏的⻆色来自各种《最终 幻想》游戏', metadata={'start_index': 2530}),\n",
       " Document(page_content='[9]她身着《最终幻想VII》中的服装，但该玩家还可以使用她在《降临之子》 中的服装和在尼布尔海姆出场时展示的第三种服装', metadata={'start_index': 2583}),\n",
       " Document(page_content='[10][11]游戏的第一版展示内容是在天 \\U0010fc00喜孝的美术原型基础上展现的另一种形式', metadata={'start_index': 2644}),\n",
       " Document(page_content='[12]在《小小大星球2》中，蒂法是可下载的 ⻆色模型', metadata={'start_index': 2686}),\n",
       " Document(page_content='[13] 韩国歌手Ivy在2007年的歌曲“유혹의유혹의”(《诱惑奏鸣曲》)MV中描绘了⻆色', metadata={'start_index': 2714}),\n",
       " Document(page_content='因为\\U0010fc01现 了《降临之子》中的战斗场面，在史克威尔艾尼克斯提出版权诉讼后，该视频被禁止在韩国电 视上播出', metadata={'start_index': 2761}),\n",
       " Document(page_content='[14] 2015年，蒂法作为可玩⻆色被添加到iOS游戏《最终幻想 记录者》中。 [15]', metadata={'start_index': 2813})]"
      ]
     },
     "execution_count": 11,
     "metadata": {},
     "output_type": "execute_result"
    }
   ],
   "source": [
    "from langchain.text_splitter import CharacterTextSplitter\n",
    "\n",
    "#加载要切割的文档\n",
    "with open(\"test.txt\", \"r\") as f:\n",
    "    zhhx = f.read()\n",
    "\n",
    "#使用递归字符切分器\n",
    "text_splitter = CharacterTextSplitter(\n",
    "    separator=\"。\", #切割标识符 默认是换行\n",
    "    chunk_size=50, #切割的块大小 一般通过长度函数计算\n",
    "    chunk_overlap=20, #切分的文本块重叠大小，\n",
    "    length_function=len, #长度函数，也可以传递tokenize函数\n",
    "    add_start_index=True, #是否添加开始索引\n",
    "    is_separator_regex=False, #是否是正则表达式\n",
    ")\n",
    "text = text_splitter.create_documents([zhhx])\n",
    "text"
   ]
  },
  {
   "cell_type": "markdown",
   "metadata": {},
   "source": [
    "#### 代码文档切割"
   ]
  },
  {
   "cell_type": "code",
   "execution_count": 21,
   "metadata": {},
   "outputs": [
    {
     "data": {
      "text/plain": [
       "[Document(page_content='def add(a, b):\\n        return a + b\\n    \\n    # 相减\\n    def subtract(a, b):\\n        return a - b', metadata={'start_index': 5})]"
      ]
     },
     "execution_count": 21,
     "metadata": {},
     "output_type": "execute_result"
    }
   ],
   "source": [
    "from langchain.text_splitter import  (\n",
    "    PythonCodeTextSplitter,\n",
    "    RecursiveCharacterTextSplitter,\n",
    "    CharacterTextSplitter,\n",
    "    Language\n",
    ")\n",
    "\n",
    "#支持解析的编程语言有\n",
    "# [e.value for e in Language]\n",
    "\n",
    "#pythons示例\n",
    "PYTHON_CODE = \"\"\"\n",
    "    def add(a, b):\n",
    "        return a + b\n",
    "    \n",
    "    # 相减\n",
    "    def subtract(a, b):\n",
    "        return a - b\n",
    "\"\"\"\n",
    "py_splitter = RecursiveCharacterTextSplitter.from_language(\n",
    "    language=Language.PYTHON,\n",
    "    chunk_size=50, #切割的块大小 一般通过长度函数计算\n",
    "    chunk_overlap=10, #切分的文本块重叠大小，\n",
    ")\n",
    "py = text_splitter.create_documents([PYTHON_CODE])\n",
    "py"
   ]
  },
  {
   "cell_type": "markdown",
   "metadata": {},
   "source": [
    "#### 按token来切割\n",
    "\n"
   ]
  },
  {
   "cell_type": "code",
   "execution_count": 23,
   "metadata": {},
   "outputs": [
    {
     "name": "stderr",
     "output_type": "stream",
     "text": [
      "Created a chunk of size 125, which is longer than the specified 50\n",
      "Created a chunk of size 72, which is longer than the specified 50\n",
      "Created a chunk of size 72, which is longer than the specified 50\n",
      "Created a chunk of size 63, which is longer than the specified 50\n",
      "Created a chunk of size 52, which is longer than the specified 50\n",
      "Created a chunk of size 96, which is longer than the specified 50\n",
      "Created a chunk of size 51, which is longer than the specified 50\n",
      "Created a chunk of size 66, which is longer than the specified 50\n",
      "Created a chunk of size 105, which is longer than the specified 50\n",
      "Created a chunk of size 84, which is longer than the specified 50\n",
      "Created a chunk of size 78, which is longer than the specified 50\n",
      "Created a chunk of size 72, which is longer than the specified 50\n",
      "Created a chunk of size 66, which is longer than the specified 50\n",
      "Created a chunk of size 92, which is longer than the specified 50\n",
      "Created a chunk of size 58, which is longer than the specified 50\n",
      "Created a chunk of size 67, which is longer than the specified 50\n",
      "Created a chunk of size 73, which is longer than the specified 50\n",
      "Created a chunk of size 52, which is longer than the specified 50\n",
      "Created a chunk of size 61, which is longer than the specified 50\n",
      "Created a chunk of size 77, which is longer than the specified 50\n",
      "Created a chunk of size 82, which is longer than the specified 50\n",
      "Created a chunk of size 61, which is longer than the specified 50\n",
      "Created a chunk of size 52, which is longer than the specified 50\n",
      "Created a chunk of size 60, which is longer than the specified 50\n",
      "Created a chunk of size 51, which is longer than the specified 50\n"
     ]
    },
    {
     "data": {
      "text/plain": [
       "[Document(page_content='蒂法介绍\\n蒂法·洛克哈特(日语:ティファ・ロックハート，Tifa Rokkuhāto，英语:Tifa Lockhart)为电子游戏《最终幻想VII》及《最终幻想VII补完计划》相关作品中的虚构⻆ 色，由\\U0010fc00村哲也创作和设计，此后也在多个游戏中客串登场', metadata={'start_index': 1}),\n",
       " Document(page_content='2014年东京电玩展上，星名美津纪cosplay《最终幻想VII 降临之子》中的蒂法·洛克哈特 蒂法是克劳德的⻘梅竹⻢，两人同为尼布鲁海姆出身', metadata={'start_index': 127}),\n",
       " Document(page_content='在米德加经营作为反抗组织“雪崩”根 据地的酒馆“第七天堂”，并且是小有名气的招牌店员', metadata={'start_index': 199}),\n",
       " Document(page_content='擅⻓格斗，以拳套为武器。本传7年前 克劳德离开故乡从军时，曾许下约定“如果有危机时一定会保护她”', metadata={'start_index': 242}),\n",
       " Document(page_content='与爱丽丝相识之后，两 人成为好友', metadata={'start_index': 291}),\n",
       " Document(page_content='第一个察觉克劳德记忆混乱的人，后来协助精神崩溃的克劳德\\U0010fc01新找回真正的自 己', metadata={'start_index': 308}),\n",
       " Document(page_content='本传的大战结束后，依大家的期待在战后新生的米德加再次开设第七天堂(原第七天堂因 第柒区圆盘崩塌遭压毁)，同时也照顾一群受到星痕症候群折磨的孩子们', metadata={'start_index': 346}),\n",
       " Document(page_content='蒂法被《纽约时报》称为“网络一代”的海报女郎，与劳拉·克罗夫特相比，她是电子游戏中坚 强、\\U0010fc02立和有吸引力的女性⻆色的典型代表', metadata={'start_index': 420}),\n",
       " Document(page_content='媒体普遍称赞其实力和外表，并称她为游戏世界 中最好的女性⻆色之一', metadata={'start_index': 483}),\n",
       " Document(page_content='在《最终幻想VII》本传中，蒂法年龄20岁、身高167cm、生日5月3日、血型B型、出生地尼 布尔海姆', metadata={'start_index': 517}),\n",
       " Document(page_content='登场\\n《最终幻想VII》 蒂法在《最终幻想VII》原版中首次亮相，是克劳德的⻘梅竹⻢、第七天堂酒吧的看板娘、极 端环境组织“雪崩”成员，该组织反抗巨型企业“神罗”因其大\\U0010fc03抽取魔晄用作动力能源', metadata={'start_index': 570}),\n",
       " Document(page_content='在注 意到克劳德的性格改变后，她说服克劳德加入雪崩，以密切关注他，并且跟随他追寻游戏中的 对手萨菲罗斯', metadata={'start_index': 666}),\n",
       " Document(page_content='她无法阻止克劳德被萨菲罗斯操纵，在他的精神崩溃后，她帮助克劳德康复， 并且两人意识到彼此间的相互感觉，最后与伙伴们一同击败了萨菲罗斯', metadata={'start_index': 718}),\n",
       " Document(page_content='[2] 在闪回中可知，儿时的蒂法一直是村中小孩的人气王', metadata={'start_index': 785}),\n",
       " Document(page_content='在母亲过世后，思念母亲的蒂法决定沿 着小路走到他们故乡尼布尔海姆附近的一座山上，认为这样就能⻅到过世的母亲，原本跟着蒂 法的其他小孩都在半路上因害怕而放弃，唯\\U0010fc02克劳德仍坚定的在后面跟随，希望能在危机时保 护蒂法', metadata={'start_index': 813}),\n",
       " Document(page_content='然而，他们俩都从山上跌落受伤，蒂法昏迷了一个星期，她的父亲认为克劳德对此负 有责任[3]，甚为严令禁止克劳德再接近蒂法，但蒂法反而从此更在意克劳德，两人成为要好 的玩伴', metadata={'start_index': 919}),\n",
       " Document(page_content='为了使自己变得更强大，克劳德最终选择离开尼布尔海姆，加入神罗，想要成为神罗 的精英战士“神罗战士”(SOLDIER)，但后来透露他主要是为了吸引蒂法的注意力', metadata={'start_index': 1004}),\n",
       " Document(page_content='离开之 前，蒂法与克劳德约定，当蒂法处于困境之中时，克劳德会回来救她', metadata={'start_index': 1083}),\n",
       " Document(page_content='从克劳德离开之后，蒂 法便开始留意神罗战士的消息，因为神罗战士都成为声名远播的知名人物，如果克劳德成为神 罗战士，他的活跃也会立刻传回尼布尔海姆', metadata={'start_index': 1118}),\n",
       " Document(page_content='数年后，在萨菲罗斯摧毁了尼布尔海姆之后，克 劳德为了救蒂法，被萨菲罗斯刺至\\U0010fc01伤', metadata={'start_index': 1191}),\n",
       " Document(page_content='蒂法被她的武术教练赞干带到安全地带，幸存下来， 最终到达米德加并遇⻅了“雪崩”的领导人巴雷特·华莱士', metadata={'start_index': 1231}),\n",
       " Document(page_content='病愈后，蒂法加入了“雪崩”，为 了给家乡被毁一事报仇', metadata={'start_index': 1282}),\n",
       " Document(page_content='一天，她在火⻋站遇到了从魔晄炉中逃出来、精神一片混乱的克劳 德，蒂法说服了他为巴雷特工作，以保证克劳德的安全以及和克劳德保持紧密关系', metadata={'start_index': 1309}),\n",
       " Document(page_content='这是游戏 开始的地方', metadata={'start_index': 1376}),\n",
       " Document(page_content='在原版《最终幻想VII》中蒂法与爱丽丝关系友好，但会在某些时候争⻛吃醋，例如在神罗总 部营救爱丽丝时，蒂法及巴雷特等一行失手被擒，若克劳德选择关心爱丽丝的话蒂法的对话中 明显带有妒忌', metadata={'start_index': 1388}),\n",
       " Document(page_content='在\\U0010fc01制版中虽然删去这段情节，但保留了这种关系。 在《最终幻想VII》的初稿中，蒂法是背景人物', metadata={'start_index': 1480}),\n",
       " Document(page_content='她在“雪崩”中的作用是在幕后支持，在执 行任务后为所有人加油鼓劲，并且对克劳德有特别的关心', metadata={'start_index': 1527}),\n",
       " Document(page_content='据推测，她的背上有一块大的疤\\n\\n 痕，是由克劳德造成的，并在事件发生时因巨大冲击而部分失忆', metadata={'start_index': 1573}),\n",
       " Document(page_content='[4]原版策划者之一的加藤 正人提出了一个旨在暗示蒂法和克劳德发生性关系的场景，但被北濑佳范用一个变淡的色调所 取代', metadata={'start_index': 1619}),\n",
       " Document(page_content='\\U0010fc00岛一成在接受采访时说，没有一个开发团队人员认为当时的场景会成为一个问题', metadata={'start_index': 1678}),\n",
       " Document(page_content='[5]\\n《最终幻想VII补完计划》\\n2005年，蒂法出现在CG电影《最终幻想VII 降临之子》中，故事发生在原版游戏剧情结束 两年后', metadata={'start_index': 1716}),\n",
       " Document(page_content='在其中，她试图给予克劳德情感上的支持，敦促克劳德放下他对自己施加的不必要的 罪恶感', metadata={'start_index': 1783}),\n",
       " Document(page_content='此外，她还照顾巴雷特的养女玛琳和克劳德在爱丽丝的教堂发⻔口救下的孩子丹泽 尔', metadata={'start_index': 1825}),\n",
       " Document(page_content='在电影中，她与萨菲罗斯的其中一个思念体罗兹战斗，后来她帮助与被召唤的生物巴哈姆 特战斗', metadata={'start_index': 1864}),\n",
       " Document(page_content='编剧\\U0010fc00岛一成将她在视频中的⻆色描述为“非常像任何被男人抛弃的女人”，并表示 尽管他们不希望她显得笨拙，但他们也想描绘出从她受到克劳德的情感伤害出发', metadata={'start_index': 1908}),\n",
       " Document(page_content='[6]在视频 的初稿中，她原本计划在当时的短片中扮演更\\U0010fc01要的⻆色，该短片仅以蒂法，克劳德和几个孩 子为主', metadata={'start_index': 1982}),\n",
       " Document(page_content='蒂法也在前传游戏《最终幻想VII 危机之前》和《最终幻想VII 核心危机》以及OVA《最终 幻想VII 最终命令》中登场', metadata={'start_index': 2036}),\n",
       " Document(page_content='每次登场时，她的出现都与尼布尔海姆的毁灭有关', metadata={'start_index': 2097}),\n",
       " Document(page_content='[2]官方 小说《通向微笑之路》中有专⻔的《蒂法篇》，讲述了原版游戏和降临之子两段之间的故事', metadata={'start_index': 2120}),\n",
       " Document(page_content='从蒂法的⻆度出发，详细讲述了她如何在Edge City创建一个新的第七天堂酒吧，并试图坚 持自己和克劳德的正常家庭观念，尽管克劳德逐渐开始逃避与他人接触', metadata={'start_index': 2168}),\n",
       " Document(page_content='蒂法还短暂出现在游 戏《最终幻想VII 地狱犬的挽歌》中，该游戏的剧情在降临之子故事一年后发生，她在游戏 中帮助主⻆文森特·瓦伦丁捍卫星球，抵抗怪物欧米茄和“兵器”', metadata={'start_index': 2245}),\n",
       " Document(page_content='她后来出现在游戏的结尾 中，讨论着文森特的失踪', metadata={'start_index': 2328}),\n",
       " Document(page_content='[2]\\n其他登场 在《最终幻想VII补完计划》之外，蒂法还出现在格斗游戏《神佑擂台》中，作为可解锁的⻆ 色和可选的Boss', metadata={'start_index': 2352}),\n",
       " Document(page_content='[7]她后来出现在电子棋盘游戏《富豪街》中', metadata={'start_index': 2414}),\n",
       " Document(page_content='在《王国之心II》中，她 穿着自己在降临之子中的服装，寻找克劳德，然后与该系列的怪物“无心”战斗', metadata={'start_index': 2436}),\n",
       " Document(page_content='她原本计划 出现在原版《王国之心》的最终合辑中，但由于时间限制，工作人员选择改用萨菲罗斯', metadata={'start_index': 2485}),\n",
       " Document(page_content='[8] 蒂法也是格斗游戏《最终幻想 纷争012》中的玩家⻆色之一，该游戏的⻆色来自各种《最终 幻想》游戏', metadata={'start_index': 2530}),\n",
       " Document(page_content='[9]她身着《最终幻想VII》中的服装，但该玩家还可以使用她在《降临之子》 中的服装和在尼布尔海姆出场时展示的第三种服装', metadata={'start_index': 2583}),\n",
       " Document(page_content='[10][11]游戏的第一版展示内容是在天 \\U0010fc00喜孝的美术原型基础上展现的另一种形式', metadata={'start_index': 2644}),\n",
       " Document(page_content='[12]在《小小大星球2》中，蒂法是可下载的 ⻆色模型', metadata={'start_index': 2686}),\n",
       " Document(page_content='[13] 韩国歌手Ivy在2007年的歌曲“유혹의유혹의”(《诱惑奏鸣曲》)MV中描绘了⻆色', metadata={'start_index': 2714}),\n",
       " Document(page_content='因为\\U0010fc01现 了《降临之子》中的战斗场面，在史克威尔艾尼克斯提出版权诉讼后，该视频被禁止在韩国电 视上播出', metadata={'start_index': 2761}),\n",
       " Document(page_content='[14] 2015年，蒂法作为可玩⻆色被添加到iOS游戏《最终幻想 记录者》中。 [15]', metadata={'start_index': 2813})]"
      ]
     },
     "execution_count": 23,
     "metadata": {},
     "output_type": "execute_result"
    }
   ],
   "source": [
    "\n",
    "from langchain.text_splitter import CharacterTextSplitter\n",
    "\n",
    "#加载要切割的文档\n",
    "\n",
    "with open(\"test.txt\", \"r\") as f:\n",
    "    zhhx = f.read()\n",
    "\n",
    "py_splitter = CharacterTextSplitter.from_tiktoken_encoder(\n",
    "    chunk_size=4000, #切割的块大小 一般通过长度函数计算\n",
    "    chunk_overlap=30, #切分的文本块重叠大小，\n",
    ")\n",
    "text = text_splitter.create_documents([zhhx])\n",
    "text\n"
   ]
  }
 ],
 "metadata": {
  "kernelspec": {
   "display_name": "Python 3",
   "language": "python",
   "name": "python3"
  },
  "language_info": {
   "codemirror_mode": {
    "name": "ipython",
    "version": 3
   },
   "file_extension": ".py",
   "mimetype": "text/x-python",
   "name": "python",
   "nbconvert_exporter": "python",
   "pygments_lexer": "ipython3",
   "version": "3.12.3"
  }
 },
 "nbformat": 4,
 "nbformat_minor": 2
}
