{
 "cells": [
  {
   "cell_type": "markdown",
   "metadata": {},
   "source": [
    "# API 层实现以及智能体性格和行为设计\n",
    "- 整体框架\n",
    "- api层\n",
    "- 主class的视线\n",
    "- Agent主体实现\n",
    "- Prompt设计\n",
    "- Chain在情绪判断的使用"
   ]
  }
 ],
 "metadata": {
  "language_info": {
   "name": "python"
  }
 },
 "nbformat": 4,
 "nbformat_minor": 2
}
