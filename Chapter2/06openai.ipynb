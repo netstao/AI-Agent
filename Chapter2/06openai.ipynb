{
 "cells": [
  {
   "cell_type": "code",
   "execution_count": 7,
   "id": "76183df3-8833-45c8-ac11-135af4773903",
   "metadata": {},
   "outputs": [
    {
     "name": "stdout",
     "output_type": "stream",
     "text": [
      "hello world\n"
     ]
    }
   ],
   "source": [
    "print(\"hello world\")"
   ]
  },
  {
   "cell_type": "code",
   "execution_count": 22,
   "id": "9b370f29-743e-4076-a928-f6abebce66f5",
   "metadata": {},
   "outputs": [
    {
     "name": "stdout",
     "output_type": "stream",
     "text": [
      "Found existing installation: openai 0.28.1\n",
      "Uninstalling openai-0.28.1:\n",
      "  Successfully uninstalled openai-0.28.1\n"
     ]
    }
   ],
   "source": [
    "! pip uninstall openai -y"
   ]
  },
  {
   "cell_type": "markdown",
   "id": "0756fde0",
   "metadata": {},
   "source": [
    "### 读取环境变量"
   ]
  },
  {
   "cell_type": "code",
   "execution_count": 2,
   "id": "36ed3f4a",
   "metadata": {},
   "outputs": [],
   "source": [
    "import os\n",
    "from dotenv import load_dotenv\n",
    "\n",
    "load_dotenv()\n",
    "\n",
    "openai_api_key = os.getenv(\"DEEPSEEK_API_KEY\")\n",
    "openai_api_base = os.getenv(\"DEEPSEEK_API_BASE\")"
   ]
  },
  {
   "cell_type": "markdown",
   "id": "4b9633c8",
   "metadata": {},
   "source": []
  },
  {
   "cell_type": "markdown",
   "id": "13f5a4a3",
   "metadata": {},
   "source": [
    "显示安装情况"
   ]
  },
  {
   "cell_type": "markdown",
   "id": "98aa6c06",
   "metadata": {},
   "source": [
    "openai官方sdk"
   ]
  },
  {
   "cell_type": "code",
   "execution_count": 6,
   "id": "1a1e005f",
   "metadata": {},
   "outputs": [
    {
     "name": "stdout",
     "output_type": "stream",
     "text": [
      "https://openai.api2d.net\n",
      "一种可能的相似度算法是首先计算这三个数字之间的欧几里德距离，然后通过某种方式对距离进行归一化处理，以确保得到的相似度在0到1的范围内。具体步骤如下：\n",
      "\n",
      "1. 计算欧几里德距离：设三个数字分别为a、b、c，对应的向量为[A, B, C]，欧几里德距离计算公式为sqrt((a-A)^2 + (b-B)^2 + (c-C)^2)。\n",
      "\n",
      "2. 归一化处理：将计算得到的距离转化为相似度得分，可以采用以下公式进行归一化处理：\n",
      "   similarity = 1 / (1 + distance)\n",
      "\n",
      "3. 输出相似度：得到归一化后的相似度得分，即可作为数字相关性的相似程度。\n",
      "\n",
      "需要注意的是，该算法可能会受到数据范围的影响，因此在实际应用中可能需要对数据进行标准化处理。同时，也可以根据具体需求调整公式和参数来提高算法的准确性和适用性。\n"
     ]
    }
   ],
   "source": [
    "#使用openai的官方sdk\n",
    "import os\n",
    "from openai import OpenAI\n",
    "\n",
    "print(os.getenv(\"OPENAI_API_BASE\"))\n",
    "client = OpenAI(\n",
    "    base_url=os.getenv(\"OPENAI_API_BASE\"),\n",
    "    api_key=os.getenv(\"OPENAI_API_KEY\"),  # this is also the default, it can be omitted\n",
    ")\n",
    "chat_completion = client.chat.completions.create(\n",
    "    messages=[\n",
    "        {\n",
    "            \"role\": \"user\",\n",
    "            \"content\": \"帮我设计一个数字相关(A股的成交额，上涨家数，涨停数)的相似度的算法\",\n",
    "        }\n",
    "    ],\n",
    "    model=\"gpt-3.5-turbo\",\n",
    "    # model=\"deepseek-chat\",\n",
    ")\n",
    "\n",
    "\n",
    "print(chat_completion.choices[0].message.content)"
   ]
  },
  {
   "cell_type": "markdown",
   "id": "5086b381",
   "metadata": {},
   "source": [
    "使用langchain调用"
   ]
  },
  {
   "cell_type": "code",
   "execution_count": null,
   "id": "c4c02174",
   "metadata": {},
   "outputs": [],
   "source": [
    "#hello world\n",
    "from langchain.llms import OpenAI\n",
    "import os\n",
    "\n",
    "api_base = os.getenv(\"OPENAI_API_BASE\")\n",
    "api_key = os.getenv(\"OPENAI_API_KEY\")\n",
    "llm = OpenAI(\n",
    "    model=\"gpt-3.5-turbo-1106\",\n",
    "    temperature=0,\n",
    "    openai_api_base=os.environ['OPENAI_API_BASE'],\n",
    "    openai_api_key=os.environ['OPENAI_API_KEY'],  # this is also the default, it can be omitted\n",
    ")\n",
    "llm.predict(\"介绍下你自己\")"
   ]
  },
  {
   "cell_type": "code",
   "execution_count": null,
   "id": "74cc2e6c",
   "metadata": {},
   "outputs": [],
   "source": [
    "#起名大师\n",
    "from langchain.llms import OpenAI\n",
    "from langchain.prompts import PromptTemplate\n",
    "import os\n",
    "api_base = os.getenv(\"OPENAI_API_BASE\")\n",
    "api_key = os.getenv(\"OPENAI_API_KEY\")\n",
    "llm = OpenAI(\n",
    "    \n",
    "    model=\"gpt-3.5-turbo-instruct\",\n",
    "    temperature=0,\n",
    "    openai_api_key=api_key,\n",
    "    openai_api_base=api_base\n",
    "    )\n",
    "prompt = PromptTemplate.from_template(\"你是一个起名大师,请模仿示例起3个{county}名字,比如男孩经常被叫做{boy},女孩经常被叫做{girl}\")\n",
    "message = prompt.format(county=\"中国特色的\",boy=\"狗蛋\",girl=\"翠花\")\n",
    "print(message)\n",
    "llm.predict(message)"
   ]
  },
  {
   "cell_type": "markdown",
   "id": "9c63f36b",
   "metadata": {},
   "source": [
    "格式化输出"
   ]
  },
  {
   "cell_type": "code",
   "execution_count": null,
   "id": "ca35614f",
   "metadata": {},
   "outputs": [],
   "source": [
    "from langchain.schema import BaseOutputParser\n",
    "#自定义class，继承了BaseOutputParser\n",
    "class CommaSeparatedListOutputParser(BaseOutputParser):\n",
    "    \"\"\"Parse the output of an LLM call to a comma-separated list.\"\"\"\n",
    "\n",
    "\n",
    "    def parse(self, text: str):\n",
    "        \"\"\"Parse the output of an LLM call.\"\"\"\n",
    "        return text.strip().split(\", \")\n",
    "\n",
    "CommaSeparatedListOutputParser().parse(\"hi, bye\")\n",
    "\n",
    "#起名大师，输出格式为一个数组\n",
    "from langchain.llms import OpenAI\n",
    "from langchain.prompts import PromptTemplate\n",
    "import os\n",
    "from langchain.schema import BaseOutputParser\n",
    "\n",
    "#自定义类\n",
    "class CommaSeparatedListOutputParser(BaseOutputParser):\n",
    "    \"\"\"Parse the output of an LLM call to a comma-separated list.\"\"\"\n",
    "\n",
    "    def parse(self, text: str):\n",
    "        \"\"\"Parse the output of an LLM call.\"\"\"\n",
    "        print(text)\n",
    "        return text.strip().split(\",\")\n",
    "\n",
    "\n",
    "api_base = os.getenv(\"OPENAI_API_BASE\")\n",
    "api_key = os.getenv(\"OPENAI_API_KEY\")\n",
    "llm = OpenAI(\n",
    "    model=\"gpt-3.5-turbo\",\n",
    "    temperature=0,\n",
    "    openai_api_key=api_key,\n",
    "    openai_api_base=api_base\n",
    "    )\n",
    "prompt = PromptTemplate.from_template(\"你是一个起名大师,请模仿示例起3个具有{county}特色的名字,示例：男孩常用名{boy},女孩常用名{girl}。请返回以逗号分隔的列表形式。仅返回逗号分隔的列表，不要返回其他内容。\")\n",
    "message = prompt.format(county=\"美国男孩\",boy=\"sam\",girl=\"lucy\")\n",
    "print(message)\n",
    "strs = llm.predict(message)\n",
    "CommaSeparatedListOutputParser().parse(strs)"
   ]
  },
  {
   "cell_type": "markdown",
   "id": "a60ffb78",
   "metadata": {},
   "source": []
  }
 ],
 "metadata": {
  "kernelspec": {
   "display_name": "Python 3 (ipykernel)",
   "language": "python",
   "name": "python3"
  },
  "language_info": {
   "codemirror_mode": {
    "name": "ipython",
    "version": 3
   },
   "file_extension": ".py",
   "mimetype": "text/x-python",
   "name": "python",
   "nbconvert_exporter": "python",
   "pygments_lexer": "ipython3",
   "version": "3.12.3"
  }
 },
 "nbformat": 4,
 "nbformat_minor": 5
}
