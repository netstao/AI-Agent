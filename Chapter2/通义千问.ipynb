{
 "cells": [
  {
   "cell_type": "code",
   "execution_count": 15,
   "id": "86ab619a-bf5c-461e-9675-6418b588c7b0",
   "metadata": {},
   "outputs": [
    {
     "data": {
      "text/plain": [
       "'我是一个智能助手，可以帮助你完成各种任务，例如回答问题、提供建议、生成代码、聊天等。以下是一些使用我的建议：\\n\\n1. **明确提问**：当你有疑问时，尽量清晰、具体地表达你的问题。这样我可以更准确地提供答案。\\n\\n2. **使用自然语言**：尽管我是一个AI，但我被设计成理解和回应自然语言。所以，你可以像和人交谈一样和我交流。\\n\\n3. **利用上下文**：如果你在讨论一个特定的话题，确保在提问时包含相关的信息，这将帮助我理解你的需求。\\n\\n4. **尝试不同的问法**：如果我没能理解你的问题，或者你对我的回答不满意，试着换一种方式提问。\\n\\n5. **代码和编程问题**：如果你需要编程帮助，提供具体的编程语言、错误信息或代码片段，这样我能给出更有效的解决方案。\\n\\n6. **反馈**：如果你觉得我回答得不够好，或者有任何建议，可以直接告诉我，我会根据你的反馈不断学习和改进。\\n\\n希望这些建议能帮到你更好地使用我！'"
      ]
     },
     "execution_count": 15,
     "metadata": {},
     "output_type": "execute_result"
    }
   ],
   "source": [
    "from dotenv import load_dotenv\n",
    "import os\n",
    "\n",
    "from langchain_community.llms import Tongyi\n",
    "\n",
    "load_dotenv()\n",
    "\n",
    "\n",
    "api_key = os.getenv(\"DASHSCOPE_API_KEY\")\n",
    "# print(api_key)\n",
    "Tongyi().invoke(\"介绍下你自己？\")\n",
    "Tongyi().invoke(\"如何更好的使用你？\")"
   ]
  },
  {
   "cell_type": "markdown",
   "id": "03deb54d",
   "metadata": {},
   "source": [
    "使用chain"
   ]
  },
  {
   "cell_type": "code",
   "execution_count": 11,
   "id": "f2c8af6e",
   "metadata": {},
   "outputs": [
    {
     "data": {
      "text/plain": [
       "'1. **教育与知识分享**：提高全球的教育水平，让更多的人有机会接受良好的教育，这将有助于消除贫困和无知，促进社会进步。同时，鼓励知识的分享和创新，让科技为全人类的福祉服务。\\n\\n2. **减少不平等**：努力消除社会、经济和种族的不平等，确保每个人都有平等的机会和权利。这包括提供公平的就业机会，保障基本的生活条件，以及反对任何形式的歧视。\\n\\n3. **环境保护**：加强环保意识，推动可持续发展，减少污染，保护生物多样性，应对气候变化。每个人都可以从日常生活中做起，节约资源，减少浪费。\\n\\n4. **和平与理解**：促进国家间的和平对话，解决冲突，避免战争。同时，增进不同文化、宗教和背景之间的理解和尊重，培养全球公民意识。\\n\\n5. **健康关怀**：改善全球公共卫生，确保所有人都能获得基本的医疗服务，尤其是对抗传染病和慢性疾病。同时，提倡健康的生活方式。\\n\\n6. **经济繁荣**：推动全球经济的平衡发展，减少贫困，提高生活水平。这需要公平的国际贸易规则和经济政策。\\n\\n7. **科技创新**：利用科技解决全球性问题，如能源危机、粮食安全等。同时，确保科技的道德使用，防止技术带来的负面影响。\\n\\n8. **社会参与**：鼓励公民积极参与社会事务，表达自己的观点，共同决策，形成一个更加民主和包容的社会。\\n\\n9. **人道主义援助**：对受灾或贫困地区提供援助，帮助他们重建生活，增强社区的韧性。\\n\\n10. **个人成长与幸福**：关注每个人的内心世界，推广心理健康教育，鼓励人们追求自我实现和幸福感。\\n\\n这些步骤并非一蹴而就，而是需要全球范围内的共同努力和长期坚持。每个人都可以在自己的生活范围内做出贡献，让世界变得更美好。'"
      ]
     },
     "execution_count": 11,
     "metadata": {},
     "output_type": "execute_result"
    }
   ],
   "source": [
    "from langchain_core.prompts import PromptTemplate\n",
    "llm = Tongyi()\n",
    "template = \"\"\"Question: {question}\n",
    "Answer: Let's think step by step.\"\"\"\n",
    "prompt = PromptTemplate.from_template(template)\n",
    "\n",
    "chain = prompt | llm\n",
    "\n",
    "question = \"如何让世界更美好\"\n",
    "\n",
    "chain.invoke({\"question\": question})"
   ]
  },
  {
   "cell_type": "markdown",
   "id": "b94cbcff",
   "metadata": {},
   "source": [
    "使用Agent"
   ]
  },
  {
   "cell_type": "code",
   "execution_count": 17,
   "id": "cffcdf48",
   "metadata": {},
   "outputs": [
    {
     "name": "stdout",
     "output_type": "stream",
     "text": [
      "\n",
      "\n",
      "\u001b[1m> Entering new AgentExecutor chain...\u001b[0m\n",
      "id:1\n",
      "event:result\n",
      ":HTTP_STATUS/200\n",
      "data:{\"output\":{\"finish_reason\":\"null\",\"text\":\"```\"},\"usage\":{\"total_tokens\":493,\"input_tokens\":492,\"output_tokens\":1},\"request_id\":\"a5e21ba5-c2de-9d3a-9c1a-1f5a3abf48f7\"}\n",
      "id:2\n",
      "event:result\n",
      ":HTTP_STATUS/200\n",
      "data:{\"output\":{\"finish_reason\":\"null\",\"text\":\"json\"},\"usage\":{\"total_tokens\":494,\"input_tokens\":492,\"output_tokens\":2},\"request_id\":\"a5e21ba5-c2de-9d3a-9c1a-1f5a3abf48f7\"}\n",
      "id:3\n",
      "event:result\n",
      ":HTTP_STATUS/200\n",
      "data:{\"output\":{\"finish_reason\":\"null\",\"text\":\"\\n{\\n    \\\"action\\\":\"},\"usage\":{\"total_tokens\":500,\"input_tokens\":492,\"output_tokens\":8},\"request_id\":\"a5e21ba5-c2de-9d3a-9c1a-1f5a3abf48f7\"}\n",
      "id:4\n",
      "event:result\n",
      ":HTTP_STATUS/200\n",
      "data:{\"output\":{\"finish_reason\":\"null\",\"text\":\" \\\"get_word_length\\\",\\n    \\\"action\"},\"usage\":{\"total_tokens\":508,\"input_tokens\":492,\"output_tokens\":16},\"request_id\":\"a5e21ba5-c2de-9d3a-9c1a-1f5a3abf48f7\"}\n",
      "id:5\n",
      "event:result\n",
      ":HTTP_STATUS/200\n",
      "data:{\"output\":{\"finish_reason\":\"null\",\"text\":\"_input\\\": \\\"LangChain\\\"\\n}\\n```\"},\"usage\":{\"total_tokens\":516,\"input_tokens\":492,\"output_tokens\":24},\"request_id\":\"a5e21ba5-c2de-9d3a-9c1a-1f5a3abf48f7\"}\n",
      "id:6\n",
      "event:result\n",
      ":HTTP_STATUS/200\n",
      "data:{\"output\":{\"finish_reason\":\"null\",\"text\":\"\"},\"usage\":{\"total_tokens\":516,\"input_tokens\":492,\"output_tokens\":24},\"request_id\":\"a5e21ba5-c2de-9d3a-9c1a-1f5a3abf48f7\"}\n",
      "id:7\n",
      "event:result\n",
      ":HTTP_STATUS/200\n",
      "data:{\"output\":{\"finish_reason\":\"stop\",\"text\":\"\"},\"usage\":{\"total_tokens\":516,\"input_tokens\":492,\"output_tokens\":24},\"request_id\":\"a5e21ba5-c2de-9d3a-9c1a-1f5a3abf48f7\"}\n",
      "\u001b[32;1m\u001b[1;3m```json\n",
      "{\n",
      "    \"action\": \"get_word_length\",\n",
      "    \"action_input\": \"LangChain\"\n",
      "}\n",
      "```\u001b[0m\u001b[36;1m\u001b[1;3m9\u001b[0mid:1\n",
      "event:result\n",
      ":HTTP_STATUS/200\n",
      "data:{\"output\":{\"finish_reason\":\"null\",\"text\":\"```\"},\"usage\":{\"total_tokens\":619,\"input_tokens\":618,\"output_tokens\":1},\"request_id\":\"b089548d-5335-9f9a-9fc1-d0061f445a0d\"}\n",
      "id:2\n",
      "event:result\n",
      ":HTTP_STATUS/200\n",
      "data:{\"output\":{\"finish_reason\":\"null\",\"text\":\"json\"},\"usage\":{\"total_tokens\":620,\"input_tokens\":618,\"output_tokens\":2},\"request_id\":\"b089548d-5335-9f9a-9fc1-d0061f445a0d\"}\n",
      "id:3\n",
      "event:result\n",
      ":HTTP_STATUS/200\n",
      "data:{\"output\":{\"finish_reason\":\"null\",\"text\":\"\\n{\\n    \\\"action\\\":\"},\"usage\":{\"total_tokens\":626,\"input_tokens\":618,\"output_tokens\":8},\"request_id\":\"b089548d-5335-9f9a-9fc1-d0061f445a0d\"}\n",
      "id:4\n",
      "event:result\n",
      ":HTTP_STATUS/200\n",
      "data:{\"output\":{\"finish_reason\":\"null\",\"text\":\" \\\"Final Answer\\\",\\n    \\\"action_input\"},\"usage\":{\"total_tokens\":634,\"input_tokens\":618,\"output_tokens\":16},\"request_id\":\"b089548d-5335-9f9a-9fc1-d0061f445a0d\"}\n",
      "id:5\n",
      "event:result\n",
      ":HTTP_STATUS/200\n",
      "data:{\"output\":{\"finish_reason\":\"null\",\"text\":\"\\\": \\\"The word 'LangChain'\"},\"usage\":{\"total_tokens\":642,\"input_tokens\":618,\"output_tokens\":24},\"request_id\":\"b089548d-5335-9f9a-9fc1-d0061f445a0d\"}\n",
      "id:6\n",
      "event:result\n",
      ":HTTP_STATUS/200\n",
      "data:{\"output\":{\"finish_reason\":\"null\",\"text\":\" has 9 letters.\\\"\\n}\\n```\"},\"usage\":{\"total_tokens\":649,\"input_tokens\":618,\"output_tokens\":31},\"request_id\":\"b089548d-5335-9f9a-9fc1-d0061f445a0d\"}\n",
      "id:7\n",
      "event:result\n",
      ":HTTP_STATUS/200\n",
      "data:{\"output\":{\"finish_reason\":\"stop\",\"text\":\"\"},\"usage\":{\"total_tokens\":649,\"input_tokens\":618,\"output_tokens\":31},\"request_id\":\"b089548d-5335-9f9a-9fc1-d0061f445a0d\"}\n",
      "\u001b[32;1m\u001b[1;3m```json\n",
      "{\n",
      "    \"action\": \"Final Answer\",\n",
      "    \"action_input\": \"The word 'LangChain' has 9 letters.\"\n",
      "}\n",
      "```\u001b[0m\n",
      "\n",
      "\u001b[1m> Finished chain.\u001b[0m\n"
     ]
    },
    {
     "data": {
      "text/plain": [
       "{'input': 'LangChain这个单词有几个字母?',\n",
       " 'output': \"The word 'LangChain' has 9 letters.\"}"
      ]
     },
     "execution_count": 17,
     "metadata": {},
     "output_type": "execute_result"
    }
   ],
   "source": [
    "llm = Tongyi()\n",
    "from langchain.agents import tool\n",
    "\n",
    "@tool\n",
    "def get_word_length(word: str) -> int:\n",
    "    \"\"\"Returns the length of a word.\"\"\"\n",
    "    return len(word)\n",
    "\n",
    "\n",
    "get_word_length.invoke(\"abc\")\n",
    "\n",
    "tools = [get_word_length]\n",
    "\n",
    "from langchain import hub\n",
    "# Get the prompt to use - you can modify this!\n",
    "#prompt = hub.pull(\"hwchase17/react\")\n",
    "#create_json_chat_agent\n",
    "prompt = hub.pull(\"hwchase17/react-chat-json\")\n",
    "#create_structured_chat_agent\n",
    "#prompt = hub.pull(\"hwchase17/structured-chat-agent\")\n",
    "from langchain.agents import AgentExecutor, create_react_agent,create_structured_chat_agent,create_json_chat_agent\n",
    "# Construct a agent\n",
    "#agent = create_structured_chat_agent(llm, tools, prompt)\n",
    "#agent = create_react_agent(llm, tools, prompt)\n",
    "agent = create_json_chat_agent(llm, tools, prompt)\n",
    "# Create an agent executor by passing in the agent and tools\n",
    "agent_executor = AgentExecutor(agent=agent, tools=tools, verbose=True,handle_parsing_errors=True)\n",
    "agent_executor.invoke({\"input\": \"LangChain这个单词有几个字母?\"})"
   ]
  }
 ],
 "metadata": {
  "kernelspec": {
   "display_name": "Python 3 (ipykernel)",
   "language": "python",
   "name": "python3"
  },
  "language_info": {
   "codemirror_mode": {
    "name": "ipython",
    "version": 3
   },
   "file_extension": ".py",
   "mimetype": "text/x-python",
   "name": "python",
   "nbconvert_exporter": "python",
   "pygments_lexer": "ipython3",
   "version": "3.12.3"
  }
 },
 "nbformat": 4,
 "nbformat_minor": 5
}
