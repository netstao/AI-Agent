{
 "cells": [
  {
   "cell_type": "markdown",
   "metadata": {},
   "source": [
    "# 介绍\n",
    "- 基于LLM的智能代理\n",
    "- 针对细分场景的专业知识库增强\n",
    "- 自动决策工具调度使用\n",
    "- 可持久化的记忆系统\n",
    "- 情绪判断与对应反馈\n",
    "- API与系统集成\n",
    "- 智能语言合成\n",
    "- LLM工程化"
   ]
  },
  {
   "cell_type": "code",
   "execution_count": null,
   "metadata": {},
   "outputs": [],
   "source": []
  },
  {
   "cell_type": "code",
   "execution_count": null,
   "metadata": {},
   "outputs": [],
   "source": []
  }
 ],
 "metadata": {
  "language_info": {
   "name": "python"
  }
 },
 "nbformat": 4,
 "nbformat_minor": 2
}
