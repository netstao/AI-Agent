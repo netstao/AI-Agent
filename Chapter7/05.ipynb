{
 "cells": [
  {
   "cell_type": "markdown",
   "metadata": {},
   "source": [
    "# 技术架构\n",
    "- 资源层\n",
    "    - Redis\n",
    "    - LLM\n",
    "        - OPEN AI\n",
    "        - OPEN AI 代理\n",
    "        - 使用AUTODL自建\n",
    "    - Config\n",
    "    - VectorStore\n",
    "    - API\n",
    "- 服务层\n",
    "    - FastAPI\n",
    "    - LangChain(Prompt、Agent...)\n",
    "- API层\n",
    "    - API\n",
    "    - LangSmith\n",
    "- APP层\n",
    "    - Telegram bot \n",
    "    - 数智人"
   ]
  },
  {
   "cell_type": "code",
   "execution_count": null,
   "metadata": {},
   "outputs": [],
   "source": []
  },
  {
   "cell_type": "code",
   "execution_count": null,
   "metadata": {},
   "outputs": [],
   "source": []
  }
 ],
 "metadata": {
  "language_info": {
   "name": "python"
  }
 },
 "nbformat": 4,
 "nbformat_minor": 2
}
